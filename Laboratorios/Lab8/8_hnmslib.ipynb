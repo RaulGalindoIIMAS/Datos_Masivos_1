{
 "cells": [
  {
   "cell_type": "markdown",
   "metadata": {
    "colab_type": "text",
    "id": "view-in-github"
   },
   "source": [
    "Mundo pequeño"
   ]
  },
  {
   "cell_type": "markdown",
   "metadata": {
    "id": "vdUGGucRbHND"
   },
   "source": [
    "# Búsqueda del vecino más cercano aproximado mediante grafos jerárquicos navegables de mundo pequeño\n",
    "En esta libreta se realiza un buscador del vecino más cercano aproximado usando grafos jerárquicos navegables de mundo pequeño (Hnswlib). "
   ]
  },
  {
   "cell_type": "code",
   "execution_count": null,
   "metadata": {
    "id": "jp0vDo8kmXQ5"
   },
   "outputs": [],
   "source": [
    "from os import listdir\n",
    "from os.path import isfile, join\n",
    "import struct\n",
    "import os \n",
    "\n",
    "import numpy as np"
   ]
  },
  {
   "cell_type": "markdown",
   "metadata": {
    "id": "X9b7Hku2t8UV"
   },
   "source": [
    "Instalamos la biblioteca [Hnswlib](https://github.com/nmslib/hnswlib)\n",
    "\n",
    "Hierarchical Navigable Small Worlds (HNSW)\n",
    "\n",
    "Nos ayuda para realizar una búsqueda rápida del vecino más cercano aproximado.\n",
    "\n"
   ]
  },
  {
   "cell_type": "code",
   "execution_count": null,
   "metadata": {
    "colab": {
     "base_uri": "https://localhost:8080/"
    },
    "id": "b4oGtxJrt_Qv",
    "outputId": "7e76533b-71ad-49b0-cf8f-705a62159260"
   },
   "outputs": [
    {
     "name": "stdout",
     "output_type": "stream",
     "text": [
      "Collecting hnswlib\n",
      "  Downloading hnswlib-0.6.2.tar.gz (31 kB)\n",
      "  Installing build dependencies ... \u001b[?25l\u001b[?25hdone\n",
      "  Getting requirements to build wheel ... \u001b[?25l\u001b[?25hdone\n",
      "    Preparing wheel metadata ... \u001b[?25l\u001b[?25hdone\n",
      "Requirement already satisfied: numpy in /usr/local/lib/python3.7/dist-packages (from hnswlib) (1.21.5)\n",
      "Building wheels for collected packages: hnswlib\n",
      "  Building wheel for hnswlib (PEP 517) ... \u001b[?25l\u001b[?25hdone\n",
      "  Created wheel for hnswlib: filename=hnswlib-0.6.2-cp37-cp37m-linux_x86_64.whl size=1450206 sha256=bf58799b204adde6c744c7a70a588714330aa3bacc543785272e0f37a14ca77c\n",
      "  Stored in directory: /root/.cache/pip/wheels/67/01/80/9805daef8cd398ceb20003af220f77c4689cab8e43d466481b\n",
      "Successfully built hnswlib\n",
      "Installing collected packages: hnswlib\n",
      "Successfully installed hnswlib-0.6.2\n"
     ]
    }
   ],
   "source": [
    "!pip install hnswlib\n",
    "import hnswlib"
   ]
  },
  {
   "cell_type": "markdown",
   "metadata": {
    "id": "P3Wvgq06cYGm"
   },
   "source": [
    "## Conjunto de datos\n",
    "Para evaluar el buscador vamos usar el conjunto de vectores SIFT [ANN_SIFT10K](http://corpus-texmex.irisa.fr/) del grupo TEXMEX, el cual descargamos y extraemos."
   ]
  },
  {
   "cell_type": "code",
   "execution_count": null,
   "metadata": {
    "colab": {
     "base_uri": "https://localhost:8080/"
    },
    "id": "wc2odYXEjxut",
    "outputId": "daa978c9-5380-43d1-9334-c6af46655aeb"
   },
   "outputs": [
    {
     "name": "stdout",
     "output_type": "stream",
     "text": [
      "siftsmall/\n",
      "siftsmall/siftsmall_base.fvecs\n",
      "siftsmall/siftsmall_groundtruth.ivecs\n",
      "siftsmall/siftsmall_learn.fvecs\n",
      "siftsmall/siftsmall_query.fvecs\n"
     ]
    }
   ],
   "source": [
    "!wget -q ftp://ftp.irisa.fr/local/texmex/corpus/siftsmall.tar.gz\n",
    "!tar xvzf siftsmall.tar.gz"
   ]
  },
  {
   "cell_type": "markdown",
   "metadata": {
    "id": "bcCrqcSsdPq9"
   },
   "source": [
    "Definimos una función para leer los vectores de un archivo `.fvecs`."
   ]
  },
  {
   "cell_type": "code",
   "execution_count": null,
   "metadata": {
    "id": "A21yFipGn27r"
   },
   "outputs": [],
   "source": [
    "import struct\n",
    "import os \n",
    "\n",
    "def lee_fvecs(ruta):\n",
    "  with open(ruta, 'rb') as f:\n",
    "    d = struct.unpack('i', f.read(4))[0]\n",
    "    n = f.seek(0, os.SEEK_END) // (4 + 4 * d)\n",
    "    f.seek(0)\n",
    "    vecs = np.zeros((n, d))\n",
    "    for i in range(n):\n",
    "      f.read(4)\n",
    "      vecs[i] = struct.unpack('f' * d, f.read(d * 4))\n",
    "  \n",
    "  return vecs "
   ]
  },
  {
   "cell_type": "markdown",
   "metadata": {
    "id": "idVajqxIdYhc"
   },
   "source": [
    "Leemos el conjunto de vectores base y consulta."
   ]
  },
  {
   "cell_type": "code",
   "execution_count": null,
   "metadata": {
    "colab": {
     "base_uri": "https://localhost:8080/"
    },
    "id": "3dVRDdDsG8ua",
    "outputId": "31da7965-880e-42aa-e1e2-0dfd3c441131"
   },
   "outputs": [
    {
     "name": "stdout",
     "output_type": "stream",
     "text": [
      "Base: (10000, 128) Consultas: (100, 128)\n"
     ]
    }
   ],
   "source": [
    "base = lee_fvecs('siftsmall/siftsmall_base.fvecs')\n",
    "consultas = lee_fvecs('siftsmall/siftsmall_query.fvecs')\n",
    "\n",
    "print('Base: {0} Consultas: {1}'.format(base.shape, consultas.shape))"
   ]
  },
  {
   "cell_type": "markdown",
   "metadata": {
    "id": "PMp9OQTJddXL"
   },
   "source": [
    "Definimos una función para leer los vectores más cercanos reales (_groundtruth_) de un archivo `.ivecs`"
   ]
  },
  {
   "cell_type": "code",
   "execution_count": null,
   "metadata": {
    "id": "TtJ_pLDXHy1L"
   },
   "outputs": [],
   "source": [
    "def lee_ivecs(ruta):\n",
    "  with open(ruta, 'rb') as f:\n",
    "    d = struct.unpack('i', f.read(4))[0]\n",
    "    n = f.seek(0, os.SEEK_END) // (4 + 4 * d)\n",
    "    f.seek(0)\n",
    "    vecs = np.zeros((n, d), dtype=np.int)\n",
    "    for i in range(n):\n",
    "      f.read(4)\n",
    "      vecs[i] = struct.unpack('i' * d, f.read(d * 4))\n",
    "  \n",
    "  return vecs "
   ]
  },
  {
   "cell_type": "markdown",
   "metadata": {
    "id": "URIfS7yYdwji"
   },
   "source": [
    "Leemos estos vectores."
   ]
  },
  {
   "cell_type": "code",
   "execution_count": null,
   "metadata": {
    "colab": {
     "base_uri": "https://localhost:8080/"
    },
    "id": "e2njOGnqI1N1",
    "outputId": "bb487c98-6f17-4374-95fb-d667b4a7485c"
   },
   "outputs": [
    {
     "name": "stdout",
     "output_type": "stream",
     "text": [
      "Groundtruth: (100, 100)\n"
     ]
    },
    {
     "name": "stderr",
     "output_type": "stream",
     "text": [
      "/usr/local/lib/python3.7/dist-packages/ipykernel_launcher.py:6: DeprecationWarning: `np.int` is a deprecated alias for the builtin `int`. To silence this warning, use `int` by itself. Doing this will not modify any behavior and is safe. When replacing `np.int`, you may wish to use e.g. `np.int64` or `np.int32` to specify the precision. If you wish to review your current use, check the release note link for additional information.\n",
      "Deprecated in NumPy 1.20; for more details and guidance: https://numpy.org/devdocs/release/1.20.0-notes.html#deprecations\n",
      "  \n"
     ]
    }
   ],
   "source": [
    "gt = lee_ivecs('siftsmall/siftsmall_groundtruth.ivecs')\n",
    "print('Groundtruth: {0}'.format(gt.shape))"
   ]
  },
  {
   "cell_type": "markdown",
   "metadata": {
    "id": "H4RtFE5QdzYm"
   },
   "source": [
    "## Distancia $\\ell_2$\n",
    "Creamos un índice de Hnswlib para la distancia $\\ell_2$, configuramos los hiperparámetros y almacenamos el conjunto base."
   ]
  },
  {
   "cell_type": "code",
   "execution_count": null,
   "metadata": {
    "id": "PBJnC-ZXvaFc"
   },
   "outputs": [],
   "source": [
    "# Creates a non-initialized index an HNSW in space space with integer dimension dim.\n",
    "p = hnswlib.Index(space='l2', dim=base.shape[1]) \n",
    "# Furthermore, Cosine similarity and Inner product can also be employed\n",
    "\n",
    "# Initializes the index from with no elements.\n",
    "p.init_index(max_elements=base.shape[0], ef_construction=100, M=16)\n",
    "# max_elements defines the maximum number of elements that can be stored in the structure (can be increased).\n",
    "# M defines tha maximum number of outgoing connections in the graph.\n",
    "# ef_construction defines a construction time/accuracy trade-off.\n",
    "\n",
    "# Controlling the recall by setting ef:\n",
    "p.set_ef(10)\n",
    "# Higher ef leads to better accuracy, but slower search\n",
    "\n",
    "# Set the default number of cpu threads used during data insertion/querying, and batch search/construction\n",
    "p.set_num_threads(4)\n",
    "# By default using all available cores\n",
    "\n",
    "# Element insertion. \n",
    "# Inserts the data(numpy array of vectors, shape:N*dim) into the structure.\n",
    "p.add_items(base)"
   ]
  },
  {
   "cell_type": "markdown",
   "metadata": {
    "id": "LBU8fCpMv453"
   },
   "source": [
    "Realizamos las consultas usando este índice."
   ]
  },
  {
   "cell_type": "code",
   "execution_count": null,
   "metadata": {
    "id": "b_57CXJMvMLd"
   },
   "outputs": [],
   "source": [
    "# knn_query: make a batch query for k closest elements for each element of the\n",
    "# data (shape:N*dim). \n",
    "# num_threads sets the number of cpu threads to use (-1 means use default).\n",
    "# Thread-safe with other knn_query calls, but not with add_items.\n",
    "\n",
    "nns_l2, l2_dists = p.knn_query(consultas, k=1)\n",
    "# nns_l2 (Nearest-neighbors using L2 distance)\n",
    "# l2_dists (Distances with the neighbors)\n",
    "# Returns a numpy array of (shape:N*k)."
   ]
  },
  {
   "cell_type": "markdown",
   "metadata": {
    "id": "oCJtOHB3ebuW"
   },
   "source": [
    "Extraemos los vecinos más cercanos encontrados por Hswlib y los de referencia y los comparamos."
   ]
  },
  {
   "cell_type": "code",
   "execution_count": null,
   "metadata": {
    "colab": {
     "base_uri": "https://localhost:8080/"
    },
    "id": "24gZNDZLSpkN",
    "outputId": "ca9cca09-e299-437f-a078-7829bd88bdfb"
   },
   "outputs": [
    {
     "name": "stdout",
     "output_type": "stream",
     "text": [
      "Promedio encontrados = 0.95\n"
     ]
    }
   ],
   "source": [
    "# Ground truth vectors (vecinos más cercanos reales)\n",
    "vmc_real = [g[0] for g in gt]\n",
    "correcto = [nns_l2[i] == vmc_real[i] for i in range(len(nns_l2))]\n",
    "\n",
    "# Comparación con los vectores encontrados por nns_l2 (Nearest-neighbors using L2 distance)\n",
    "print('Promedio encontrados = {0}'.format(np.mean(correcto)))"
   ]
  },
  {
   "cell_type": "markdown",
   "metadata": {
    "id": "FVfVkovFsOqf"
   },
   "source": [
    "## Ejercicio\n",
    " * Compara el desempeño de los algoritmos usando distintos hiperparámetros\n",
    " * Usa otro conjunto de datos para evaluar los algoritmos"
   ]
  }
 ],
 "metadata": {
  "colab": {
   "collapsed_sections": [],
   "include_colab_link": true,
   "name": "3f_hnmslib.ipynb",
   "provenance": []
  },
  "kernelspec": {
   "display_name": "Python 3 (ipykernel)",
   "language": "python",
   "name": "python3"
  },
  "language_info": {
   "codemirror_mode": {
    "name": "ipython",
    "version": 3
   },
   "file_extension": ".py",
   "mimetype": "text/x-python",
   "name": "python",
   "nbconvert_exporter": "python",
   "pygments_lexer": "ipython3",
   "version": "3.9.7"
  }
 },
 "nbformat": 4,
 "nbformat_minor": 1
}
