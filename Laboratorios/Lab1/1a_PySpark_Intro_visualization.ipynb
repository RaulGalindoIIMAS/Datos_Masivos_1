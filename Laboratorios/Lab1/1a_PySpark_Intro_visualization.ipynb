{
 "cells": [
  {
   "cell_type": "markdown",
   "metadata": {
    "application/vnd.databricks.v1+cell": {
     "inputWidgets": {},
     "nuid": "3a4d38b0-d0b0-4726-9651-30f9ab3488ac",
     "showTitle": false,
     "title": ""
    }
   },
   "source": [
    "# Mi primera libreta con PySpark\n",
    "\n",
    "El objetivo de esta libreta es explorar el procesamiento y análisis de los datos con PySpark, así como explorar los RDDs y dataframes."
   ]
  },
  {
   "cell_type": "markdown",
   "metadata": {
    "application/vnd.databricks.v1+cell": {
     "inputWidgets": {},
     "nuid": "f0f3f847-5cfd-4fd2-afa3-7e6f0b94de26",
     "showTitle": false,
     "title": ""
    }
   },
   "source": [
    "Para realizar los ejemplos de este notebook haremos uso de una base de datos que cuenta con información de los jugadores del juego [FIFA20](https://www.kaggle.com/stefanoleone992/fifa-20-complete-player-dataset?select=players_20.csv), estos datos fueron tomados del sitio de kaggle donde podrán encontrar una descripción detallada de cada uno de los campos."
   ]
  },
  {
   "cell_type": "markdown",
   "metadata": {
    "application/vnd.databricks.v1+cell": {
     "inputWidgets": {},
     "nuid": "a95c5d79-19ca-4c3d-8057-c65cca52727c",
     "showTitle": false,
     "title": ""
    }
   },
   "source": [
    "## ¿Qué es PySpark?\n",
    "PySpark es una herramienta que nos deja usar Spark encima de Python. Permitiendonos combinar el proceso de datos distribuidos de Spark con la simplicidad de Python para el análisis de conjuntos masivos de datos (big data)."
   ]
  },
  {
   "cell_type": "code",
   "execution_count": 0,
   "metadata": {
    "application/vnd.databricks.v1+cell": {
     "inputWidgets": {},
     "nuid": "76515400-8009-490e-8c3e-0038c8a72534",
     "showTitle": false,
     "title": ""
    }
   },
   "outputs": [],
   "source": [
    "#Carga de la biblioteca\n",
    "import pyspark\n",
    "# Carga funciones extra\n",
    "from pyspark.sql.functions import * \n",
    "from pyspark.sql import SparkSession\n",
    "spark = SparkSession.builder.appName('primeros_pasos').getOrCreate()"
   ]
  },
  {
   "cell_type": "markdown",
   "metadata": {
    "application/vnd.databricks.v1+cell": {
     "inputWidgets": {},
     "nuid": "f5555f6c-1288-42c7-ba37-66e21bac87c6",
     "showTitle": false,
     "title": ""
    }
   },
   "source": [
    "### Operaciones con RDDs\n",
    "\n",
    "La forma más sencilla de trabajar con PySpark es usando RDDs (Resilient Distributed Dataset).\n",
    "\n",
    "Los RDDs son una colección de datos, con las características que son tolerantes a fallos y pueden trabajar de manera paralela."
   ]
  },
  {
   "cell_type": "code",
   "execution_count": 0,
   "metadata": {
    "application/vnd.databricks.v1+cell": {
     "inputWidgets": {},
     "nuid": "bf2f3da2-5e60-46eb-b117-2d96852736ab",
     "showTitle": false,
     "title": ""
    }
   },
   "outputs": [],
   "source": [
    "#Carga de los datos\n",
    "#Mi primer RDD (cargamos los datos de un CSV hacia un RDD)\n",
    "datos_crudos = spark.sparkContext.textFile('/FileStore/tables/players_20.csv')"
   ]
  },
  {
   "cell_type": "code",
   "execution_count": 0,
   "metadata": {
    "application/vnd.databricks.v1+cell": {
     "inputWidgets": {},
     "nuid": "91dbe76f-4f3f-4650-94ec-d33d46e16154",
     "showTitle": false,
     "title": ""
    }
   },
   "outputs": [
    {
     "data": {
      "text/plain": [
       "Out[26]: PythonRDD[38] at RDD at PythonRDD.scala:58"
      ]
     },
     "metadata": {
      "application/vnd.databricks.v1+output": {
       "addedWidgets": {},
       "arguments": {},
       "data": "Out[26]: PythonRDD[38] at RDD at PythonRDD.scala:58",
       "datasetInfos": [],
       "metadata": {},
       "removedWidgets": [],
       "type": "ansi"
      }
     },
     "output_type": "display_data"
    }
   ],
   "source": [
    "datos_crudos"
   ]
  },
  {
   "cell_type": "code",
   "execution_count": 0,
   "metadata": {
    "application/vnd.databricks.v1+cell": {
     "inputWidgets": {},
     "nuid": "4a3254c0-f32a-4bd6-a748-24890ede2669",
     "showTitle": false,
     "title": ""
    }
   },
   "outputs": [
    {
     "data": {
      "text/plain": [
       "sofifa_id,player_url,short_name,long_name,age,dob,height_cm,weight_kg,nationality,club,overall,potential,value_eur,wage_eur,player_positions,preferred_foot,international_reputation,weak_foot,skill_moves,work_rate,body_type,real_face,release_clause_eur,player_tags,team_position,team_jersey_number,loaned_from,joined,contract_valid_until,nation_position,nation_jersey_number,pace,shooting,passing,dribbling,defending,physic,gk_diving,gk_handling,gk_kicking,gk_reflexes,gk_speed,gk_positioning,player_traits,attacking_crossing,attacking_finishing,attacking_heading_accuracy,attacking_short_passing,attacking_volleys,skill_dribbling,skill_curve,skill_fk_accuracy,skill_long_passing,skill_ball_control,movement_acceleration,movement_sprint_speed,movement_agility,movement_reactions,movement_balance,power_shot_power,power_jumping,power_stamina,power_strength,power_long_shots,mentality_aggression,mentality_interceptions,mentality_positioning,mentality_vision,mentality_penalties,mentality_composure,defending_marking,defending_standing_tackle,defending_sliding_tackle,goalkeeping_diving,goalkeeping_handling,goalkeeping_kicking,goalkeeping_positioning,goalkeeping_reflexes,ls,st,rs,lw,lf,cf,rf,rw,lam,cam,ram,lm,lcm,cm,rcm,rm,lwb,ldm,cdm,rdm,rwb,lb,lcb,cb,rcb,rb\n",
       "158023,https://sofifa.com/player/158023/lionel-messi/20/159586,L. Messi,Lionel Andrés Messi Cuccittini,32,1987-06-24,170,72,Argentina,FC Barcelona,94,94,95500000,565000,\"RW, CF, ST\",Left,5,4,4,Medium/Low,Messi,Yes,195800000,\"#Dribbler, #Distance Shooter, #Crosser, #FK Specialist, #Acrobat, #Clinical Finisher, #Complete Forward\",RW,10,,2004-07-01,2021,,,87,92,92,96,39,66,,,,,,,\"Beat Offside Trap, Argues with Officials, Early Crosser, Finesse Shot, Speed Dribbler (CPU AI Only), 1-on-1 Rush, Giant Throw-in, Outside Foot Shot\",88,95,70,92,88,97,93,94,92,96,91,84,93,95,95,86,68,75,68,94,48,40,94,94,75,96,33,37,26,6,11,15,14,8,89+2,89+2,89+2,93+2,93+2,93+2,93+2,93+2,93+2,93+2,93+2,92+2,87+2,87+2,87+2,92+2,68+2,66+2,66+2,66+2,68+2,63+2,52+2,52+2,52+2,63+2\n"
      ]
     },
     "metadata": {
      "application/vnd.databricks.v1+output": {
       "addedWidgets": {},
       "arguments": {},
       "data": "sofifa_id,player_url,short_name,long_name,age,dob,height_cm,weight_kg,nationality,club,overall,potential,value_eur,wage_eur,player_positions,preferred_foot,international_reputation,weak_foot,skill_moves,work_rate,body_type,real_face,release_clause_eur,player_tags,team_position,team_jersey_number,loaned_from,joined,contract_valid_until,nation_position,nation_jersey_number,pace,shooting,passing,dribbling,defending,physic,gk_diving,gk_handling,gk_kicking,gk_reflexes,gk_speed,gk_positioning,player_traits,attacking_crossing,attacking_finishing,attacking_heading_accuracy,attacking_short_passing,attacking_volleys,skill_dribbling,skill_curve,skill_fk_accuracy,skill_long_passing,skill_ball_control,movement_acceleration,movement_sprint_speed,movement_agility,movement_reactions,movement_balance,power_shot_power,power_jumping,power_stamina,power_strength,power_long_shots,mentality_aggression,mentality_interceptions,mentality_positioning,mentality_vision,mentality_penalties,mentality_composure,defending_marking,defending_standing_tackle,defending_sliding_tackle,goalkeeping_diving,goalkeeping_handling,goalkeeping_kicking,goalkeeping_positioning,goalkeeping_reflexes,ls,st,rs,lw,lf,cf,rf,rw,lam,cam,ram,lm,lcm,cm,rcm,rm,lwb,ldm,cdm,rdm,rwb,lb,lcb,cb,rcb,rb\n158023,https://sofifa.com/player/158023/lionel-messi/20/159586,L. Messi,Lionel Andrés Messi Cuccittini,32,1987-06-24,170,72,Argentina,FC Barcelona,94,94,95500000,565000,\"RW, CF, ST\",Left,5,4,4,Medium/Low,Messi,Yes,195800000,\"#Dribbler, #Distance Shooter, #Crosser, #FK Specialist, #Acrobat, #Clinical Finisher, #Complete Forward\",RW,10,,2004-07-01,2021,,,87,92,92,96,39,66,,,,,,,\"Beat Offside Trap, Argues with Officials, Early Crosser, Finesse Shot, Speed Dribbler (CPU AI Only), 1-on-1 Rush, Giant Throw-in, Outside Foot Shot\",88,95,70,92,88,97,93,94,92,96,91,84,93,95,95,86,68,75,68,94,48,40,94,94,75,96,33,37,26,6,11,15,14,8,89+2,89+2,89+2,93+2,93+2,93+2,93+2,93+2,93+2,93+2,93+2,92+2,87+2,87+2,87+2,92+2,68+2,66+2,66+2,66+2,68+2,63+2,52+2,52+2,52+2,63+2\n",
       "datasetInfos": [],
       "metadata": {},
       "removedWidgets": [],
       "type": "ansi"
      }
     },
     "output_type": "display_data"
    }
   ],
   "source": [
    "for renglon in datos_crudos.take(2):\n",
    "  print(renglon)"
   ]
  },
  {
   "cell_type": "markdown",
   "metadata": {
    "application/vnd.databricks.v1+cell": {
     "inputWidgets": {},
     "nuid": "83f3d996-bb01-431d-b1e3-c90b767bc4c8",
     "showTitle": false,
     "title": ""
    }
   },
   "source": [
    "Una de las desventajas de los RDDs es que solo proveen a los datos de la estructura minima para poder trabajar con ellos. Como podemos ver, los elementos del RDD son solo los renglones del archivo CSV sin formato."
   ]
  },
  {
   "cell_type": "code",
   "execution_count": 0,
   "metadata": {
    "application/vnd.databricks.v1+cell": {
     "inputWidgets": {},
     "nuid": "f1c311a9-31e5-4bc0-bfdd-2008801160f9",
     "showTitle": false,
     "title": ""
    }
   },
   "outputs": [],
   "source": [
    "# Guarda el primer elemento \n",
    "columnas = datos_crudos.take(1)[0]\n",
    "# Guarda en todos los elementos de datos_crudos menos el primero correspondiente a las columnas\n",
    "datos_crudos = datos_crudos.filter(lambda renglon : renglon != columnas)"
   ]
  },
  {
   "cell_type": "code",
   "execution_count": 0,
   "metadata": {
    "application/vnd.databricks.v1+cell": {
     "inputWidgets": {},
     "nuid": "7bab7e2f-7cd5-44c3-b836-8bae92fcd5bc",
     "showTitle": false,
     "title": ""
    }
   },
   "outputs": [
    {
     "data": {
      "text/plain": [
       "Out[10]: PythonRDD[38] at RDD at PythonRDD.scala:58"
      ]
     },
     "metadata": {
      "application/vnd.databricks.v1+output": {
       "addedWidgets": {},
       "arguments": {},
       "data": "Out[10]: PythonRDD[38] at RDD at PythonRDD.scala:58",
       "datasetInfos": [],
       "metadata": {},
       "removedWidgets": [],
       "type": "ansi"
      }
     },
     "output_type": "display_data"
    }
   ],
   "source": [
    "datos_crudos"
   ]
  },
  {
   "cell_type": "markdown",
   "metadata": {
    "application/vnd.databricks.v1+cell": {
     "inputWidgets": {},
     "nuid": "9fb7ef5c-e1cc-471d-b0d2-165333685dae",
     "showTitle": false,
     "title": ""
    }
   },
   "source": [
    "Ahora podemos darle un poco más de estructura a nuestros datos. Primero separemos los campos de cada renglon, sabiendo que estan separados por comas, y quedandonos con solo un subconjunto de dichos campos, digamos... su nombre, edad, estatura, peso, nacionalidad, equipo y su ranking. Para esto definamos la siguiente función:"
   ]
  },
  {
   "cell_type": "code",
   "execution_count": 0,
   "metadata": {
    "application/vnd.databricks.v1+cell": {
     "inputWidgets": {},
     "nuid": "3fb60ddf-bcfd-46b5-8b22-6cc5cfd883fd",
     "showTitle": false,
     "title": ""
    }
   },
   "outputs": [],
   "source": [
    "def separar_campos(renglon):\n",
    "    renglon_separado = renglon.split(',')\n",
    "    # Extrae los campos que queremos\n",
    "    nombre = str(renglon_separado[2])\n",
    "    edad = int(renglon_separado[4])\n",
    "    estatura = int(renglon_separado[6])\n",
    "    peso = int(renglon_separado[7])\n",
    "    nacionalidad = str(renglon_separado[8])\n",
    "    equipo = str(renglon_separado[9])\n",
    "    rank = int(renglon_separado[10])\n",
    "    return (nombre, edad, estatura, peso, nacionalidad, equipo, rank)"
   ]
  },
  {
   "cell_type": "code",
   "execution_count": 0,
   "metadata": {
    "application/vnd.databricks.v1+cell": {
     "inputWidgets": {},
     "nuid": "45513b27-fe54-4321-b14c-a0f87d85090e",
     "showTitle": false,
     "title": ""
    }
   },
   "outputs": [
    {
     "data": {
      "text/plain": [
       "('L. Messi', 32, 170, 72, 'Argentina', 'FC Barcelona', 94)\n",
       "('Cristiano Ronaldo', 34, 187, 83, 'Portugal', 'Juventus', 93)\n",
       "('Neymar Jr', 27, 175, 68, 'Brazil', 'Paris Saint-Germain', 92)\n",
       "('J. Oblak', 26, 188, 87, 'Slovenia', 'Atlético Madrid', 91)\n",
       "('E. Hazard', 28, 175, 74, 'Belgium', 'Real Madrid', 91)\n"
      ]
     },
     "metadata": {
      "application/vnd.databricks.v1+output": {
       "addedWidgets": {},
       "arguments": {},
       "data": "('L. Messi', 32, 170, 72, 'Argentina', 'FC Barcelona', 94)\n('Cristiano Ronaldo', 34, 187, 83, 'Portugal', 'Juventus', 93)\n('Neymar Jr', 27, 175, 68, 'Brazil', 'Paris Saint-Germain', 92)\n('J. Oblak', 26, 188, 87, 'Slovenia', 'Atlético Madrid', 91)\n('E. Hazard', 28, 175, 74, 'Belgium', 'Real Madrid', 91)\n",
       "datasetInfos": [],
       "metadata": {},
       "removedWidgets": [],
       "type": "ansi"
      }
     },
     "output_type": "display_data"
    }
   ],
   "source": [
    "#aplicamos la función a los datos\n",
    "\n",
    "rdd_fifa = datos_crudos.map(separar_campos)\n",
    "# Imprimimos una muestra de los datos\n",
    "for renglon in rdd_fifa.take(5):\n",
    "  print(renglon)"
   ]
  },
  {
   "cell_type": "markdown",
   "metadata": {
    "application/vnd.databricks.v1+cell": {
     "inputWidgets": {},
     "nuid": "770c4a52-7a70-47e3-b7d9-d9a4d555de34",
     "showTitle": false,
     "title": ""
    }
   },
   "source": [
    "Existen dos operaciones básicas que pueden ser aplicadas a los RDD:\n",
    "\n",
    "- Acciones: Son operaciones que accionan la realización de cálculos y regresan valores explícitos del RDD. Ejemplo: take()\n",
    "\n",
    "- Transformaciones: Son operaciones que devuelven otro RDD. Este tipo de operaciones no se ejecutan como tal sino hasta que es llamada una acción. Por esta razón se dice que las transformaciones son de evaluacion peresoza (lazy evaluation). Ejemplos: map(), reduceByKey()\n",
    "\n",
    "En el caso de la celda anterior, map() es una transformación que aplica la función dada a los elementos del RDD y take() es la acción que nos devuelve los  primeros elementos."
   ]
  },
  {
   "cell_type": "markdown",
   "metadata": {
    "application/vnd.databricks.v1+cell": {
     "inputWidgets": {},
     "nuid": "d437459f-96b5-43db-a096-a1c0ecbb9577",
     "showTitle": false,
     "title": ""
    }
   },
   "source": [
    "##### Ejemplo 1: ¿Cuántos jugadores existen por país?\n",
    "\n",
    "Para lograr esto primero necesitamos convertir nuestros datos en pares (key, value), donde la key será el pais y el value nos indicará que ese registro pertenece a un jugador de dicho país."
   ]
  },
  {
   "cell_type": "code",
   "execution_count": 0,
   "metadata": {
    "application/vnd.databricks.v1+cell": {
     "inputWidgets": {},
     "nuid": "2617af8b-9015-456b-8119-973a82d8b7f4",
     "showTitle": false,
     "title": ""
    }
   },
   "outputs": [],
   "source": [
    "# Nos quedamos solo con la entrada corresponiente al país\n",
    "rdd_nacionalidades = rdd_fifa.map(lambda renglon: (renglon[4], 1))"
   ]
  },
  {
   "cell_type": "code",
   "execution_count": 0,
   "metadata": {
    "application/vnd.databricks.v1+cell": {
     "inputWidgets": {},
     "nuid": "69f0408f-55be-42b6-9ca8-cdbd78af946e",
     "showTitle": false,
     "title": ""
    }
   },
   "outputs": [
    {
     "data": {
      "text/plain": [
       "('Argentina', 1)\n",
       "('Portugal', 1)\n",
       "('Brazil', 1)\n",
       "('Slovenia', 1)\n",
       "('Belgium', 1)\n"
      ]
     },
     "metadata": {
      "application/vnd.databricks.v1+output": {
       "addedWidgets": {},
       "arguments": {},
       "data": "('Argentina', 1)\n('Portugal', 1)\n('Brazil', 1)\n('Slovenia', 1)\n('Belgium', 1)\n",
       "datasetInfos": [],
       "metadata": {},
       "removedWidgets": [],
       "type": "ansi"
      }
     },
     "output_type": "display_data"
    }
   ],
   "source": [
    "for i in rdd_nacionalidades.take(5):\n",
    "    print(i)"
   ]
  },
  {
   "cell_type": "code",
   "execution_count": 0,
   "metadata": {
    "application/vnd.databricks.v1+cell": {
     "inputWidgets": {},
     "nuid": "3699e300-4bf9-4529-8aec-56c7004c9ab3",
     "showTitle": false,
     "title": ""
    }
   },
   "outputs": [],
   "source": [
    "#Usando los países como llaves y la transformación llamada reduceByKey, sumaremos todos los valores para cada país.\n",
    "rdd_nacionalidades = rdd_nacionalidades.reduceByKey(lambda val_1 , val_2: val_1 + val_2)"
   ]
  },
  {
   "cell_type": "code",
   "execution_count": 0,
   "metadata": {
    "application/vnd.databricks.v1+cell": {
     "inputWidgets": {},
     "nuid": "e89ccdf6-7496-411a-95ef-999c71bb5d65",
     "showTitle": false,
     "title": ""
    }
   },
   "outputs": [
    {
     "data": {
      "text/plain": [
       "('Argentina', 886)\n",
       "('Portugal', 344)\n",
       "('Brazil', 824)\n",
       "('Slovenia', 61)\n",
       "('Belgium', 268)\n",
       "('Netherlands', 416)\n",
       "('France', 984)\n",
       "('Uruguay', 164)\n",
       "('Poland', 324)\n",
       "('Denmark', 345)\n"
      ]
     },
     "metadata": {
      "application/vnd.databricks.v1+output": {
       "addedWidgets": {},
       "arguments": {},
       "data": "('Argentina', 886)\n('Portugal', 344)\n('Brazil', 824)\n('Slovenia', 61)\n('Belgium', 268)\n('Netherlands', 416)\n('France', 984)\n('Uruguay', 164)\n('Poland', 324)\n('Denmark', 345)\n",
       "datasetInfos": [],
       "metadata": {},
       "removedWidgets": [],
       "type": "ansi"
      }
     },
     "output_type": "display_data"
    }
   ],
   "source": [
    "#Para visualizar los resultados, usaremos la acción collect(). Esta acción devuelve todo el contenido del RDD. \n",
    "\n",
    "resultados = rdd_nacionalidades.collect()\n",
    "\n",
    "for renglon in resultados[:10]:\n",
    "  print(renglon)"
   ]
  },
  {
   "cell_type": "code",
   "execution_count": 0,
   "metadata": {
    "application/vnd.databricks.v1+cell": {
     "inputWidgets": {},
     "nuid": "95929d77-a9ee-4079-aead-896f6e6fcef5",
     "showTitle": false,
     "title": ""
    }
   },
   "outputs": [],
   "source": [
    "#Importante: Esta acción debe usarse con cuidado, en casos donde el RDD contenga una gran cantidad de registros, cargar todo el contenido del RDD puede dejar al sistema sin memoria."
   ]
  },
  {
   "cell_type": "markdown",
   "metadata": {
    "application/vnd.databricks.v1+cell": {
     "inputWidgets": {},
     "nuid": "84ed84eb-93e5-4356-ab6d-1234e6d5621c",
     "showTitle": false,
     "title": ""
    }
   },
   "source": [
    "##### Ejemplo 2: Ordenar a los paises por la cantidad de jugadores. \n",
    "\n",
    "En la siguiente celda imprimimos los 10 países con más jugadores registrados en el juego de FIFA20"
   ]
  },
  {
   "cell_type": "code",
   "execution_count": 0,
   "metadata": {
    "application/vnd.databricks.v1+cell": {
     "inputWidgets": {},
     "nuid": "ea2f2edf-f213-4232-9034-c0c2ae5f0800",
     "showTitle": false,
     "title": ""
    }
   },
   "outputs": [
    {
     "data": {
      "text/plain": [
       "('England', 1667)\n",
       "('Germany', 1216)\n",
       "('Spain', 1035)\n",
       "('France', 984)\n",
       "('Argentina', 886)\n"
      ]
     },
     "metadata": {
      "application/vnd.databricks.v1+output": {
       "addedWidgets": {},
       "arguments": {},
       "data": "('England', 1667)\n('Germany', 1216)\n('Spain', 1035)\n('France', 984)\n('Argentina', 886)\n",
       "datasetInfos": [],
       "metadata": {},
       "removedWidgets": [],
       "type": "ansi"
      }
     },
     "output_type": "display_data"
    }
   ],
   "source": [
    "# Pedimos que ordene por total de jugadores\n",
    "rdd_nacionalidades = rdd_nacionalidades.sortBy(lambda renglon: renglon[1], ascending = False)\n",
    "\n",
    "for renglon in rdd_nacionalidades.take(5):\n",
    "  print(renglon)"
   ]
  },
  {
   "cell_type": "markdown",
   "metadata": {
    "application/vnd.databricks.v1+cell": {
     "inputWidgets": {},
     "nuid": "5f5ff69d-3d20-4713-8581-20ab5141083b",
     "showTitle": false,
     "title": ""
    }
   },
   "source": [
    "Aunque los RDDs nos proveen de la capacidad de manipular y hacer calculos con datos distribuidos, éstos carecen de las funcionalidades y la estructura que tienen herramientas de un poco más alto nivel, como los DataFrame de Pandas, para el manejo de datos.\n",
    "\n",
    "En PySpark existe un tipo de objetos, igual llamados DataFrames, los cuales nos ayudan a dotar a nuestros datos con más funcionalidades y estructura, en comparación a los RDDs, al mismo tiempo que seguir trabajando de forma distribuida con ellos."
   ]
  },
  {
   "cell_type": "markdown",
   "metadata": {
    "application/vnd.databricks.v1+cell": {
     "inputWidgets": {},
     "nuid": "6cff7de1-884a-4bd6-ae86-8c32e3af8a85",
     "showTitle": false,
     "title": ""
    }
   },
   "source": [
    "## Operaciones sobre DataFrames\n",
    "\n",
    "A diferencia de los RDDs, los DataFrames nos permiten estructurar a una collección de datos distribuidos en forma de tabla (con columnas y filas)."
   ]
  },
  {
   "cell_type": "code",
   "execution_count": 0,
   "metadata": {
    "application/vnd.databricks.v1+cell": {
     "inputWidgets": {},
     "nuid": "33e7b1f4-44fe-4e91-828a-ce5994d75abc",
     "showTitle": false,
     "title": ""
    }
   },
   "outputs": [],
   "source": [
    "#Mi primer Dataframe en PySpark\n",
    "df_fifa = spark.read.csv('/FileStore/tables/players_20.csv', header = True, inferSchema = True)"
   ]
  },
  {
   "cell_type": "code",
   "execution_count": 0,
   "metadata": {
    "application/vnd.databricks.v1+cell": {
     "inputWidgets": {},
     "nuid": "4610416c-5581-4391-9485-231c2e0b4fcc",
     "showTitle": false,
     "title": ""
    }
   },
   "outputs": [
    {
     "data": {
      "text/plain": [
       "Out[25]: DataFrame[sofifa_id: int, player_url: string, short_name: string, long_name: string, age: int, dob: string, height_cm: int, weight_kg: int, nationality: string, club: string, overall: int, potential: int, value_eur: int, wage_eur: int, player_positions: string, preferred_foot: string, international_reputation: int, weak_foot: int, skill_moves: int, work_rate: string, body_type: string, real_face: string, release_clause_eur: int, player_tags: string, team_position: string, team_jersey_number: int, loaned_from: string, joined: string, contract_valid_until: int, nation_position: string, nation_jersey_number: int, pace: int, shooting: int, passing: int, dribbling: int, defending: int, physic: int, gk_diving: int, gk_handling: int, gk_kicking: int, gk_reflexes: int, gk_speed: int, gk_positioning: int, player_traits: string, attacking_crossing: int, attacking_finishing: int, attacking_heading_accuracy: int, attacking_short_passing: int, attacking_volleys: int, skill_dribbling: int, skill_curve: int, skill_fk_accuracy: int, skill_long_passing: int, skill_ball_control: int, movement_acceleration: int, movement_sprint_speed: int, movement_agility: int, movement_reactions: int, movement_balance: int, power_shot_power: int, power_jumping: int, power_stamina: int, power_strength: int, power_long_shots: int, mentality_aggression: int, mentality_interceptions: int, mentality_positioning: int, mentality_vision: int, mentality_penalties: int, mentality_composure: int, defending_marking: int, defending_standing_tackle: int, defending_sliding_tackle: int, goalkeeping_diving: int, goalkeeping_handling: int, goalkeeping_kicking: int, goalkeeping_positioning: int, goalkeeping_reflexes: int, ls: string, st: string, rs: string, lw: string, lf: string, cf: string, rf: string, rw: string, lam: string, cam: string, ram: string, lm: string, lcm: string, cm: string, rcm: string, rm: string, lwb: string, ldm: string, cdm: string, rdm: string, rwb: string, lb: string, lcb: string, cb: string, rcb: string, rb: string]"
      ]
     },
     "metadata": {
      "application/vnd.databricks.v1+output": {
       "addedWidgets": {},
       "arguments": {},
       "data": "Out[25]: DataFrame[sofifa_id: int, player_url: string, short_name: string, long_name: string, age: int, dob: string, height_cm: int, weight_kg: int, nationality: string, club: string, overall: int, potential: int, value_eur: int, wage_eur: int, player_positions: string, preferred_foot: string, international_reputation: int, weak_foot: int, skill_moves: int, work_rate: string, body_type: string, real_face: string, release_clause_eur: int, player_tags: string, team_position: string, team_jersey_number: int, loaned_from: string, joined: string, contract_valid_until: int, nation_position: string, nation_jersey_number: int, pace: int, shooting: int, passing: int, dribbling: int, defending: int, physic: int, gk_diving: int, gk_handling: int, gk_kicking: int, gk_reflexes: int, gk_speed: int, gk_positioning: int, player_traits: string, attacking_crossing: int, attacking_finishing: int, attacking_heading_accuracy: int, attacking_short_passing: int, attacking_volleys: int, skill_dribbling: int, skill_curve: int, skill_fk_accuracy: int, skill_long_passing: int, skill_ball_control: int, movement_acceleration: int, movement_sprint_speed: int, movement_agility: int, movement_reactions: int, movement_balance: int, power_shot_power: int, power_jumping: int, power_stamina: int, power_strength: int, power_long_shots: int, mentality_aggression: int, mentality_interceptions: int, mentality_positioning: int, mentality_vision: int, mentality_penalties: int, mentality_composure: int, defending_marking: int, defending_standing_tackle: int, defending_sliding_tackle: int, goalkeeping_diving: int, goalkeeping_handling: int, goalkeeping_kicking: int, goalkeeping_positioning: int, goalkeeping_reflexes: int, ls: string, st: string, rs: string, lw: string, lf: string, cf: string, rf: string, rw: string, lam: string, cam: string, ram: string, lm: string, lcm: string, cm: string, rcm: string, rm: string, lwb: string, ldm: string, cdm: string, rdm: string, rwb: string, lb: string, lcb: string, cb: string, rcb: string, rb: string]",
       "datasetInfos": [],
       "metadata": {},
       "removedWidgets": [],
       "type": "ansi"
      }
     },
     "output_type": "display_data"
    }
   ],
   "source": [
    "df_fifa"
   ]
  },
  {
   "cell_type": "code",
   "execution_count": 0,
   "metadata": {
    "application/vnd.databricks.v1+cell": {
     "inputWidgets": {},
     "nuid": "ec81e849-e7c3-4e9b-a82e-173a2fe7a109",
     "showTitle": false,
     "title": ""
    }
   },
   "outputs": [],
   "source": [
    "#Semejante a pandas, podemos seleccionar un conjunto de columnas\n",
    "df_fifa = df_fifa.select('short_name','age', 'height_cm', 'weight_kg', 'nationality', 'club', 'value_eur', 'preferred_foot')\n",
    "\n",
    "#dada la estructrua que el DataFrame da a los datos, podemos hacer referencia a las columnas por su nombre en el archivo CSV."
   ]
  },
  {
   "cell_type": "markdown",
   "metadata": {
    "application/vnd.databricks.v1+cell": {
     "inputWidgets": {},
     "nuid": "bee9ad2e-0c25-4cfb-8969-41bb515da320",
     "showTitle": false,
     "title": ""
    }
   },
   "source": [
    "### Visualizando datos"
   ]
  },
  {
   "cell_type": "code",
   "execution_count": 0,
   "metadata": {
    "application/vnd.databricks.v1+cell": {
     "inputWidgets": {},
     "nuid": "3667c02a-0f25-4e5b-bf70-0ccbd160d9a7",
     "showTitle": false,
     "title": ""
    }
   },
   "outputs": [
    {
     "data": {
      "text/plain": [
       "+-----------------+---+---------+---------+-----------+-------------------+---------+--------------+\n",
       "|       short_name|age|height_cm|weight_kg|nationality|               club|value_eur|preferred_foot|\n",
       "+-----------------+---+---------+---------+-----------+-------------------+---------+--------------+\n",
       "|         L. Messi| 32|      170|       72|  Argentina|       FC Barcelona| 95500000|          Left|\n",
       "|Cristiano Ronaldo| 34|      187|       83|   Portugal|           Juventus| 58500000|         Right|\n",
       "|        Neymar Jr| 27|      175|       68|     Brazil|Paris Saint-Germain|105500000|         Right|\n",
       "|         J. Oblak| 26|      188|       87|   Slovenia|    Atlético Madrid| 77500000|         Right|\n",
       "|        E. Hazard| 28|      175|       74|    Belgium|        Real Madrid| 90000000|         Right|\n",
       "+-----------------+---+---------+---------+-----------+-------------------+---------+--------------+\n",
       "only showing top 5 rows\n",
       "\n"
      ]
     },
     "metadata": {
      "application/vnd.databricks.v1+output": {
       "addedWidgets": {},
       "arguments": {},
       "data": "+-----------------+---+---------+---------+-----------+-------------------+---------+--------------+\n|       short_name|age|height_cm|weight_kg|nationality|               club|value_eur|preferred_foot|\n+-----------------+---+---------+---------+-----------+-------------------+---------+--------------+\n|         L. Messi| 32|      170|       72|  Argentina|       FC Barcelona| 95500000|          Left|\n|Cristiano Ronaldo| 34|      187|       83|   Portugal|           Juventus| 58500000|         Right|\n|        Neymar Jr| 27|      175|       68|     Brazil|Paris Saint-Germain|105500000|         Right|\n|         J. Oblak| 26|      188|       87|   Slovenia|    Atlético Madrid| 77500000|         Right|\n|        E. Hazard| 28|      175|       74|    Belgium|        Real Madrid| 90000000|         Right|\n+-----------------+---+---------+---------+-----------+-------------------+---------+--------------+\nonly showing top 5 rows\n\n",
       "datasetInfos": [],
       "metadata": {},
       "removedWidgets": [],
       "type": "ansi"
      }
     },
     "output_type": "display_data"
    }
   ],
   "source": [
    "df_fifa.show(5)"
   ]
  },
  {
   "cell_type": "code",
   "execution_count": 0,
   "metadata": {
    "application/vnd.databricks.v1+cell": {
     "inputWidgets": {},
     "nuid": "dcbbecd3-cf81-41b9-8214-cac344f773c8",
     "showTitle": false,
     "title": ""
    }
   },
   "outputs": [
    {
     "data": {
      "text/html": [
       "<div>\n",
       "<style scoped>\n",
       "    .dataframe tbody tr th:only-of-type {\n",
       "        vertical-align: middle;\n",
       "    }\n",
       "\n",
       "    .dataframe tbody tr th {\n",
       "        vertical-align: top;\n",
       "    }\n",
       "\n",
       "    .dataframe thead th {\n",
       "        text-align: right;\n",
       "    }\n",
       "</style>\n",
       "<table border=\"1\" class=\"dataframe\">\n",
       "  <thead>\n",
       "    <tr style=\"text-align: right;\">\n",
       "      <th></th>\n",
       "      <th>short_name</th>\n",
       "      <th>age</th>\n",
       "      <th>height_cm</th>\n",
       "      <th>weight_kg</th>\n",
       "      <th>nationality</th>\n",
       "      <th>club</th>\n",
       "      <th>value_eur</th>\n",
       "      <th>preferred_foot</th>\n",
       "    </tr>\n",
       "  </thead>\n",
       "  <tbody>\n",
       "    <tr>\n",
       "      <th>0</th>\n",
       "      <td>L. Messi</td>\n",
       "      <td>32</td>\n",
       "      <td>170</td>\n",
       "      <td>72</td>\n",
       "      <td>Argentina</td>\n",
       "      <td>FC Barcelona</td>\n",
       "      <td>95500000</td>\n",
       "      <td>Left</td>\n",
       "    </tr>\n",
       "    <tr>\n",
       "      <th>1</th>\n",
       "      <td>Cristiano Ronaldo</td>\n",
       "      <td>34</td>\n",
       "      <td>187</td>\n",
       "      <td>83</td>\n",
       "      <td>Portugal</td>\n",
       "      <td>Juventus</td>\n",
       "      <td>58500000</td>\n",
       "      <td>Right</td>\n",
       "    </tr>\n",
       "    <tr>\n",
       "      <th>2</th>\n",
       "      <td>Neymar Jr</td>\n",
       "      <td>27</td>\n",
       "      <td>175</td>\n",
       "      <td>68</td>\n",
       "      <td>Brazil</td>\n",
       "      <td>Paris Saint-Germain</td>\n",
       "      <td>105500000</td>\n",
       "      <td>Right</td>\n",
       "    </tr>\n",
       "    <tr>\n",
       "      <th>3</th>\n",
       "      <td>J. Oblak</td>\n",
       "      <td>26</td>\n",
       "      <td>188</td>\n",
       "      <td>87</td>\n",
       "      <td>Slovenia</td>\n",
       "      <td>Atlético Madrid</td>\n",
       "      <td>77500000</td>\n",
       "      <td>Right</td>\n",
       "    </tr>\n",
       "    <tr>\n",
       "      <th>4</th>\n",
       "      <td>E. Hazard</td>\n",
       "      <td>28</td>\n",
       "      <td>175</td>\n",
       "      <td>74</td>\n",
       "      <td>Belgium</td>\n",
       "      <td>Real Madrid</td>\n",
       "      <td>90000000</td>\n",
       "      <td>Right</td>\n",
       "    </tr>\n",
       "    <tr>\n",
       "      <th>5</th>\n",
       "      <td>K. De Bruyne</td>\n",
       "      <td>28</td>\n",
       "      <td>181</td>\n",
       "      <td>70</td>\n",
       "      <td>Belgium</td>\n",
       "      <td>Manchester City</td>\n",
       "      <td>90000000</td>\n",
       "      <td>Right</td>\n",
       "    </tr>\n",
       "    <tr>\n",
       "      <th>6</th>\n",
       "      <td>M. ter Stegen</td>\n",
       "      <td>27</td>\n",
       "      <td>187</td>\n",
       "      <td>85</td>\n",
       "      <td>Germany</td>\n",
       "      <td>FC Barcelona</td>\n",
       "      <td>67500000</td>\n",
       "      <td>Right</td>\n",
       "    </tr>\n",
       "    <tr>\n",
       "      <th>7</th>\n",
       "      <td>V. van Dijk</td>\n",
       "      <td>27</td>\n",
       "      <td>193</td>\n",
       "      <td>92</td>\n",
       "      <td>Netherlands</td>\n",
       "      <td>Liverpool</td>\n",
       "      <td>78000000</td>\n",
       "      <td>Right</td>\n",
       "    </tr>\n",
       "    <tr>\n",
       "      <th>8</th>\n",
       "      <td>L. Modrić</td>\n",
       "      <td>33</td>\n",
       "      <td>172</td>\n",
       "      <td>66</td>\n",
       "      <td>Croatia</td>\n",
       "      <td>Real Madrid</td>\n",
       "      <td>45000000</td>\n",
       "      <td>Right</td>\n",
       "    </tr>\n",
       "    <tr>\n",
       "      <th>9</th>\n",
       "      <td>M. Salah</td>\n",
       "      <td>27</td>\n",
       "      <td>175</td>\n",
       "      <td>71</td>\n",
       "      <td>Egypt</td>\n",
       "      <td>Liverpool</td>\n",
       "      <td>80500000</td>\n",
       "      <td>Left</td>\n",
       "    </tr>\n",
       "  </tbody>\n",
       "</table>\n",
       "</div>"
      ]
     },
     "metadata": {
      "application/vnd.databricks.v1+output": {
       "addedWidgets": {},
       "arguments": {},
       "data": "<div>\n<style scoped>\n    .dataframe tbody tr th:only-of-type {\n        vertical-align: middle;\n    }\n\n    .dataframe tbody tr th {\n        vertical-align: top;\n    }\n\n    .dataframe thead th {\n        text-align: right;\n    }\n</style>\n<table border=\"1\" class=\"dataframe\">\n  <thead>\n    <tr style=\"text-align: right;\">\n      <th></th>\n      <th>short_name</th>\n      <th>age</th>\n      <th>height_cm</th>\n      <th>weight_kg</th>\n      <th>nationality</th>\n      <th>club</th>\n      <th>value_eur</th>\n      <th>preferred_foot</th>\n    </tr>\n  </thead>\n  <tbody>\n    <tr>\n      <th>0</th>\n      <td>L. Messi</td>\n      <td>32</td>\n      <td>170</td>\n      <td>72</td>\n      <td>Argentina</td>\n      <td>FC Barcelona</td>\n      <td>95500000</td>\n      <td>Left</td>\n    </tr>\n    <tr>\n      <th>1</th>\n      <td>Cristiano Ronaldo</td>\n      <td>34</td>\n      <td>187</td>\n      <td>83</td>\n      <td>Portugal</td>\n      <td>Juventus</td>\n      <td>58500000</td>\n      <td>Right</td>\n    </tr>\n    <tr>\n      <th>2</th>\n      <td>Neymar Jr</td>\n      <td>27</td>\n      <td>175</td>\n      <td>68</td>\n      <td>Brazil</td>\n      <td>Paris Saint-Germain</td>\n      <td>105500000</td>\n      <td>Right</td>\n    </tr>\n    <tr>\n      <th>3</th>\n      <td>J. Oblak</td>\n      <td>26</td>\n      <td>188</td>\n      <td>87</td>\n      <td>Slovenia</td>\n      <td>Atlético Madrid</td>\n      <td>77500000</td>\n      <td>Right</td>\n    </tr>\n    <tr>\n      <th>4</th>\n      <td>E. Hazard</td>\n      <td>28</td>\n      <td>175</td>\n      <td>74</td>\n      <td>Belgium</td>\n      <td>Real Madrid</td>\n      <td>90000000</td>\n      <td>Right</td>\n    </tr>\n    <tr>\n      <th>5</th>\n      <td>K. De Bruyne</td>\n      <td>28</td>\n      <td>181</td>\n      <td>70</td>\n      <td>Belgium</td>\n      <td>Manchester City</td>\n      <td>90000000</td>\n      <td>Right</td>\n    </tr>\n    <tr>\n      <th>6</th>\n      <td>M. ter Stegen</td>\n      <td>27</td>\n      <td>187</td>\n      <td>85</td>\n      <td>Germany</td>\n      <td>FC Barcelona</td>\n      <td>67500000</td>\n      <td>Right</td>\n    </tr>\n    <tr>\n      <th>7</th>\n      <td>V. van Dijk</td>\n      <td>27</td>\n      <td>193</td>\n      <td>92</td>\n      <td>Netherlands</td>\n      <td>Liverpool</td>\n      <td>78000000</td>\n      <td>Right</td>\n    </tr>\n    <tr>\n      <th>8</th>\n      <td>L. Modrić</td>\n      <td>33</td>\n      <td>172</td>\n      <td>66</td>\n      <td>Croatia</td>\n      <td>Real Madrid</td>\n      <td>45000000</td>\n      <td>Right</td>\n    </tr>\n    <tr>\n      <th>9</th>\n      <td>M. Salah</td>\n      <td>27</td>\n      <td>175</td>\n      <td>71</td>\n      <td>Egypt</td>\n      <td>Liverpool</td>\n      <td>80500000</td>\n      <td>Left</td>\n    </tr>\n  </tbody>\n</table>\n</div>",
       "datasetInfos": [],
       "metadata": {},
       "removedWidgets": [],
       "textData": null,
       "type": "htmlSandbox"
      }
     },
     "output_type": "display_data"
    }
   ],
   "source": [
    "#Si el contenido del DataFrame es lo suficientemente pequeño podemos transformar su contenido a un DataFrame de Pandas.\n",
    "df_pequeño = df_fifa.limit(10)\n",
    "df_pandas = df_pequeño.toPandas()\n",
    "df_pandas"
   ]
  },
  {
   "cell_type": "code",
   "execution_count": 0,
   "metadata": {
    "application/vnd.databricks.v1+cell": {
     "inputWidgets": {},
     "nuid": "ed05f1ec-86bd-487f-8d48-c4470d15bea6",
     "showTitle": false,
     "title": ""
    }
   },
   "outputs": [
    {
     "data": {
      "text/html": [
       "<div>\n",
       "<style scoped>\n",
       "    .dataframe tbody tr th:only-of-type {\n",
       "        vertical-align: middle;\n",
       "    }\n",
       "\n",
       "    .dataframe tbody tr th {\n",
       "        vertical-align: top;\n",
       "    }\n",
       "\n",
       "    .dataframe thead th {\n",
       "        text-align: right;\n",
       "    }\n",
       "</style>\n",
       "<table border=\"1\" class=\"dataframe\">\n",
       "  <thead>\n",
       "    <tr style=\"text-align: right;\">\n",
       "      <th></th>\n",
       "      <th>short_name</th>\n",
       "      <th>age</th>\n",
       "      <th>height_cm</th>\n",
       "      <th>weight_kg</th>\n",
       "      <th>nationality</th>\n",
       "      <th>club</th>\n",
       "      <th>value_eur</th>\n",
       "      <th>preferred_foot</th>\n",
       "    </tr>\n",
       "  </thead>\n",
       "  <tbody>\n",
       "    <tr>\n",
       "      <th>0</th>\n",
       "      <td>L. Messi</td>\n",
       "      <td>32</td>\n",
       "      <td>170</td>\n",
       "      <td>72</td>\n",
       "      <td>Argentina</td>\n",
       "      <td>FC Barcelona</td>\n",
       "      <td>95500000</td>\n",
       "      <td>Left</td>\n",
       "    </tr>\n",
       "    <tr>\n",
       "      <th>1</th>\n",
       "      <td>Cristiano Ronaldo</td>\n",
       "      <td>34</td>\n",
       "      <td>187</td>\n",
       "      <td>83</td>\n",
       "      <td>Portugal</td>\n",
       "      <td>Juventus</td>\n",
       "      <td>58500000</td>\n",
       "      <td>Right</td>\n",
       "    </tr>\n",
       "    <tr>\n",
       "      <th>2</th>\n",
       "      <td>Neymar Jr</td>\n",
       "      <td>27</td>\n",
       "      <td>175</td>\n",
       "      <td>68</td>\n",
       "      <td>Brazil</td>\n",
       "      <td>Paris Saint-Germain</td>\n",
       "      <td>105500000</td>\n",
       "      <td>Right</td>\n",
       "    </tr>\n",
       "    <tr>\n",
       "      <th>3</th>\n",
       "      <td>J. Oblak</td>\n",
       "      <td>26</td>\n",
       "      <td>188</td>\n",
       "      <td>87</td>\n",
       "      <td>Slovenia</td>\n",
       "      <td>Atlético Madrid</td>\n",
       "      <td>77500000</td>\n",
       "      <td>Right</td>\n",
       "    </tr>\n",
       "    <tr>\n",
       "      <th>4</th>\n",
       "      <td>E. Hazard</td>\n",
       "      <td>28</td>\n",
       "      <td>175</td>\n",
       "      <td>74</td>\n",
       "      <td>Belgium</td>\n",
       "      <td>Real Madrid</td>\n",
       "      <td>90000000</td>\n",
       "      <td>Right</td>\n",
       "    </tr>\n",
       "  </tbody>\n",
       "</table>\n",
       "</div>"
      ]
     },
     "metadata": {
      "application/vnd.databricks.v1+output": {
       "addedWidgets": {},
       "arguments": {},
       "data": "<div>\n<style scoped>\n    .dataframe tbody tr th:only-of-type {\n        vertical-align: middle;\n    }\n\n    .dataframe tbody tr th {\n        vertical-align: top;\n    }\n\n    .dataframe thead th {\n        text-align: right;\n    }\n</style>\n<table border=\"1\" class=\"dataframe\">\n  <thead>\n    <tr style=\"text-align: right;\">\n      <th></th>\n      <th>short_name</th>\n      <th>age</th>\n      <th>height_cm</th>\n      <th>weight_kg</th>\n      <th>nationality</th>\n      <th>club</th>\n      <th>value_eur</th>\n      <th>preferred_foot</th>\n    </tr>\n  </thead>\n  <tbody>\n    <tr>\n      <th>0</th>\n      <td>L. Messi</td>\n      <td>32</td>\n      <td>170</td>\n      <td>72</td>\n      <td>Argentina</td>\n      <td>FC Barcelona</td>\n      <td>95500000</td>\n      <td>Left</td>\n    </tr>\n    <tr>\n      <th>1</th>\n      <td>Cristiano Ronaldo</td>\n      <td>34</td>\n      <td>187</td>\n      <td>83</td>\n      <td>Portugal</td>\n      <td>Juventus</td>\n      <td>58500000</td>\n      <td>Right</td>\n    </tr>\n    <tr>\n      <th>2</th>\n      <td>Neymar Jr</td>\n      <td>27</td>\n      <td>175</td>\n      <td>68</td>\n      <td>Brazil</td>\n      <td>Paris Saint-Germain</td>\n      <td>105500000</td>\n      <td>Right</td>\n    </tr>\n    <tr>\n      <th>3</th>\n      <td>J. Oblak</td>\n      <td>26</td>\n      <td>188</td>\n      <td>87</td>\n      <td>Slovenia</td>\n      <td>Atlético Madrid</td>\n      <td>77500000</td>\n      <td>Right</td>\n    </tr>\n    <tr>\n      <th>4</th>\n      <td>E. Hazard</td>\n      <td>28</td>\n      <td>175</td>\n      <td>74</td>\n      <td>Belgium</td>\n      <td>Real Madrid</td>\n      <td>90000000</td>\n      <td>Right</td>\n    </tr>\n  </tbody>\n</table>\n</div>",
       "datasetInfos": [],
       "metadata": {},
       "removedWidgets": [],
       "textData": null,
       "type": "htmlSandbox"
      }
     },
     "output_type": "display_data"
    }
   ],
   "source": [
    "#si quiero visualizar solo las primeras 5 filas, entonces:\n",
    "df_pandas.head(5)"
   ]
  },
  {
   "cell_type": "code",
   "execution_count": 0,
   "metadata": {
    "application/vnd.databricks.v1+cell": {
     "inputWidgets": {},
     "nuid": "f11bc1b3-0418-4bbf-93db-072ce752d08d",
     "showTitle": false,
     "title": ""
    }
   },
   "outputs": [
    {
     "data": {
      "text/html": [
       "<div>\n",
       "<style scoped>\n",
       "    .dataframe tbody tr th:only-of-type {\n",
       "        vertical-align: middle;\n",
       "    }\n",
       "\n",
       "    .dataframe tbody tr th {\n",
       "        vertical-align: top;\n",
       "    }\n",
       "\n",
       "    .dataframe thead th {\n",
       "        text-align: right;\n",
       "    }\n",
       "</style>\n",
       "<table border=\"1\" class=\"dataframe\">\n",
       "  <thead>\n",
       "    <tr style=\"text-align: right;\">\n",
       "      <th></th>\n",
       "      <th>short_name</th>\n",
       "      <th>age</th>\n",
       "      <th>height_cm</th>\n",
       "      <th>weight_kg</th>\n",
       "      <th>nationality</th>\n",
       "      <th>club</th>\n",
       "      <th>value_eur</th>\n",
       "      <th>preferred_foot</th>\n",
       "    </tr>\n",
       "  </thead>\n",
       "  <tbody>\n",
       "    <tr>\n",
       "      <th>0</th>\n",
       "      <td>L. Messi</td>\n",
       "      <td>32</td>\n",
       "      <td>170</td>\n",
       "      <td>72</td>\n",
       "      <td>Argentina</td>\n",
       "      <td>FC Barcelona</td>\n",
       "      <td>95500000</td>\n",
       "      <td>Left</td>\n",
       "    </tr>\n",
       "    <tr>\n",
       "      <th>1</th>\n",
       "      <td>Cristiano Ronaldo</td>\n",
       "      <td>34</td>\n",
       "      <td>187</td>\n",
       "      <td>83</td>\n",
       "      <td>Portugal</td>\n",
       "      <td>Juventus</td>\n",
       "      <td>58500000</td>\n",
       "      <td>Right</td>\n",
       "    </tr>\n",
       "    <tr>\n",
       "      <th>2</th>\n",
       "      <td>Neymar Jr</td>\n",
       "      <td>27</td>\n",
       "      <td>175</td>\n",
       "      <td>68</td>\n",
       "      <td>Brazil</td>\n",
       "      <td>Paris Saint-Germain</td>\n",
       "      <td>105500000</td>\n",
       "      <td>Right</td>\n",
       "    </tr>\n",
       "    <tr>\n",
       "      <th>3</th>\n",
       "      <td>J. Oblak</td>\n",
       "      <td>26</td>\n",
       "      <td>188</td>\n",
       "      <td>87</td>\n",
       "      <td>Slovenia</td>\n",
       "      <td>Atlético Madrid</td>\n",
       "      <td>77500000</td>\n",
       "      <td>Right</td>\n",
       "    </tr>\n",
       "    <tr>\n",
       "      <th>4</th>\n",
       "      <td>E. Hazard</td>\n",
       "      <td>28</td>\n",
       "      <td>175</td>\n",
       "      <td>74</td>\n",
       "      <td>Belgium</td>\n",
       "      <td>Real Madrid</td>\n",
       "      <td>90000000</td>\n",
       "      <td>Right</td>\n",
       "    </tr>\n",
       "  </tbody>\n",
       "</table>\n",
       "</div>"
      ]
     },
     "metadata": {
      "application/vnd.databricks.v1+output": {
       "addedWidgets": {},
       "arguments": {},
       "data": "<div>\n<style scoped>\n    .dataframe tbody tr th:only-of-type {\n        vertical-align: middle;\n    }\n\n    .dataframe tbody tr th {\n        vertical-align: top;\n    }\n\n    .dataframe thead th {\n        text-align: right;\n    }\n</style>\n<table border=\"1\" class=\"dataframe\">\n  <thead>\n    <tr style=\"text-align: right;\">\n      <th></th>\n      <th>short_name</th>\n      <th>age</th>\n      <th>height_cm</th>\n      <th>weight_kg</th>\n      <th>nationality</th>\n      <th>club</th>\n      <th>value_eur</th>\n      <th>preferred_foot</th>\n    </tr>\n  </thead>\n  <tbody>\n    <tr>\n      <th>0</th>\n      <td>L. Messi</td>\n      <td>32</td>\n      <td>170</td>\n      <td>72</td>\n      <td>Argentina</td>\n      <td>FC Barcelona</td>\n      <td>95500000</td>\n      <td>Left</td>\n    </tr>\n    <tr>\n      <th>1</th>\n      <td>Cristiano Ronaldo</td>\n      <td>34</td>\n      <td>187</td>\n      <td>83</td>\n      <td>Portugal</td>\n      <td>Juventus</td>\n      <td>58500000</td>\n      <td>Right</td>\n    </tr>\n    <tr>\n      <th>2</th>\n      <td>Neymar Jr</td>\n      <td>27</td>\n      <td>175</td>\n      <td>68</td>\n      <td>Brazil</td>\n      <td>Paris Saint-Germain</td>\n      <td>105500000</td>\n      <td>Right</td>\n    </tr>\n    <tr>\n      <th>3</th>\n      <td>J. Oblak</td>\n      <td>26</td>\n      <td>188</td>\n      <td>87</td>\n      <td>Slovenia</td>\n      <td>Atlético Madrid</td>\n      <td>77500000</td>\n      <td>Right</td>\n    </tr>\n    <tr>\n      <th>4</th>\n      <td>E. Hazard</td>\n      <td>28</td>\n      <td>175</td>\n      <td>74</td>\n      <td>Belgium</td>\n      <td>Real Madrid</td>\n      <td>90000000</td>\n      <td>Right</td>\n    </tr>\n  </tbody>\n</table>\n</div>",
       "datasetInfos": [],
       "metadata": {},
       "removedWidgets": [],
       "textData": null,
       "type": "htmlSandbox"
      }
     },
     "output_type": "display_data"
    }
   ],
   "source": [
    "#Otra forma de hace lo mismo es:\n",
    "df_fifa.limit(10).toPandas().head(5)"
   ]
  },
  {
   "cell_type": "code",
   "execution_count": 0,
   "metadata": {
    "application/vnd.databricks.v1+cell": {
     "inputWidgets": {},
     "nuid": "76434e70-1880-4045-b8a9-bf7543c709d5",
     "showTitle": false,
     "title": ""
    }
   },
   "outputs": [
    {
     "data": {
      "text/html": [
       "<div>\n",
       "<style scoped>\n",
       "    .dataframe tbody tr th:only-of-type {\n",
       "        vertical-align: middle;\n",
       "    }\n",
       "\n",
       "    .dataframe tbody tr th {\n",
       "        vertical-align: top;\n",
       "    }\n",
       "\n",
       "    .dataframe thead th {\n",
       "        text-align: right;\n",
       "    }\n",
       "</style>\n",
       "<table border=\"1\" class=\"dataframe\">\n",
       "  <thead>\n",
       "    <tr style=\"text-align: right;\">\n",
       "      <th></th>\n",
       "      <th>short_name</th>\n",
       "      <th>age</th>\n",
       "      <th>height_cm</th>\n",
       "      <th>weight_kg</th>\n",
       "      <th>nationality</th>\n",
       "      <th>club</th>\n",
       "      <th>value_eur</th>\n",
       "      <th>preferred_foot</th>\n",
       "    </tr>\n",
       "  </thead>\n",
       "  <tbody>\n",
       "    <tr>\n",
       "      <th>0</th>\n",
       "      <td>L. Messi</td>\n",
       "      <td>32</td>\n",
       "      <td>170</td>\n",
       "      <td>72</td>\n",
       "      <td>Argentina</td>\n",
       "      <td>FC Barcelona</td>\n",
       "      <td>95500000</td>\n",
       "      <td>Left</td>\n",
       "    </tr>\n",
       "    <tr>\n",
       "      <th>1</th>\n",
       "      <td>Cristiano Ronaldo</td>\n",
       "      <td>34</td>\n",
       "      <td>187</td>\n",
       "      <td>83</td>\n",
       "      <td>Portugal</td>\n",
       "      <td>Juventus</td>\n",
       "      <td>58500000</td>\n",
       "      <td>Right</td>\n",
       "    </tr>\n",
       "    <tr>\n",
       "      <th>2</th>\n",
       "      <td>Neymar Jr</td>\n",
       "      <td>27</td>\n",
       "      <td>175</td>\n",
       "      <td>68</td>\n",
       "      <td>Brazil</td>\n",
       "      <td>Paris Saint-Germain</td>\n",
       "      <td>105500000</td>\n",
       "      <td>Right</td>\n",
       "    </tr>\n",
       "    <tr>\n",
       "      <th>3</th>\n",
       "      <td>J. Oblak</td>\n",
       "      <td>26</td>\n",
       "      <td>188</td>\n",
       "      <td>87</td>\n",
       "      <td>Slovenia</td>\n",
       "      <td>Atlético Madrid</td>\n",
       "      <td>77500000</td>\n",
       "      <td>Right</td>\n",
       "    </tr>\n",
       "    <tr>\n",
       "      <th>4</th>\n",
       "      <td>E. Hazard</td>\n",
       "      <td>28</td>\n",
       "      <td>175</td>\n",
       "      <td>74</td>\n",
       "      <td>Belgium</td>\n",
       "      <td>Real Madrid</td>\n",
       "      <td>90000000</td>\n",
       "      <td>Right</td>\n",
       "    </tr>\n",
       "  </tbody>\n",
       "</table>\n",
       "</div>"
      ]
     },
     "metadata": {
      "application/vnd.databricks.v1+output": {
       "addedWidgets": {},
       "arguments": {},
       "data": "<div>\n<style scoped>\n    .dataframe tbody tr th:only-of-type {\n        vertical-align: middle;\n    }\n\n    .dataframe tbody tr th {\n        vertical-align: top;\n    }\n\n    .dataframe thead th {\n        text-align: right;\n    }\n</style>\n<table border=\"1\" class=\"dataframe\">\n  <thead>\n    <tr style=\"text-align: right;\">\n      <th></th>\n      <th>short_name</th>\n      <th>age</th>\n      <th>height_cm</th>\n      <th>weight_kg</th>\n      <th>nationality</th>\n      <th>club</th>\n      <th>value_eur</th>\n      <th>preferred_foot</th>\n    </tr>\n  </thead>\n  <tbody>\n    <tr>\n      <th>0</th>\n      <td>L. Messi</td>\n      <td>32</td>\n      <td>170</td>\n      <td>72</td>\n      <td>Argentina</td>\n      <td>FC Barcelona</td>\n      <td>95500000</td>\n      <td>Left</td>\n    </tr>\n    <tr>\n      <th>1</th>\n      <td>Cristiano Ronaldo</td>\n      <td>34</td>\n      <td>187</td>\n      <td>83</td>\n      <td>Portugal</td>\n      <td>Juventus</td>\n      <td>58500000</td>\n      <td>Right</td>\n    </tr>\n    <tr>\n      <th>2</th>\n      <td>Neymar Jr</td>\n      <td>27</td>\n      <td>175</td>\n      <td>68</td>\n      <td>Brazil</td>\n      <td>Paris Saint-Germain</td>\n      <td>105500000</td>\n      <td>Right</td>\n    </tr>\n    <tr>\n      <th>3</th>\n      <td>J. Oblak</td>\n      <td>26</td>\n      <td>188</td>\n      <td>87</td>\n      <td>Slovenia</td>\n      <td>Atlético Madrid</td>\n      <td>77500000</td>\n      <td>Right</td>\n    </tr>\n    <tr>\n      <th>4</th>\n      <td>E. Hazard</td>\n      <td>28</td>\n      <td>175</td>\n      <td>74</td>\n      <td>Belgium</td>\n      <td>Real Madrid</td>\n      <td>90000000</td>\n      <td>Right</td>\n    </tr>\n  </tbody>\n</table>\n</div>",
       "datasetInfos": [],
       "metadata": {},
       "removedWidgets": [],
       "textData": null,
       "type": "htmlSandbox"
      }
     },
     "output_type": "display_data"
    }
   ],
   "source": [
    "#Importante: en SPark es común encontrar la siguiente sintáxis. La cual se usa únicamente para dar mayor claridad el código.\n",
    "df_fifa.limit(10) \\\n",
    "  .toPandas() \\\n",
    "  .head(5)"
   ]
  },
  {
   "cell_type": "code",
   "execution_count": 0,
   "metadata": {
    "application/vnd.databricks.v1+cell": {
     "inputWidgets": {},
     "nuid": "9227899b-7502-4fdb-a0ea-9475c612f5ed",
     "showTitle": false,
     "title": ""
    }
   },
   "outputs": [
    {
     "data": {
      "text/plain": [
       "root\n",
       " |-- short_name: string (nullable = true)\n",
       " |-- age: integer (nullable = true)\n",
       " |-- height_cm: integer (nullable = true)\n",
       " |-- weight_kg: integer (nullable = true)\n",
       " |-- nationality: string (nullable = true)\n",
       " |-- club: string (nullable = true)\n",
       " |-- value_eur: integer (nullable = true)\n",
       " |-- preferred_foot: string (nullable = true)\n",
       "\n"
      ]
     },
     "metadata": {
      "application/vnd.databricks.v1+output": {
       "addedWidgets": {},
       "arguments": {},
       "data": "root\n |-- short_name: string (nullable = true)\n |-- age: integer (nullable = true)\n |-- height_cm: integer (nullable = true)\n |-- weight_kg: integer (nullable = true)\n |-- nationality: string (nullable = true)\n |-- club: string (nullable = true)\n |-- value_eur: integer (nullable = true)\n |-- preferred_foot: string (nullable = true)\n\n",
       "datasetInfos": [],
       "metadata": {},
       "removedWidgets": [],
       "type": "ansi"
      }
     },
     "output_type": "display_data"
    }
   ],
   "source": [
    "#Para poder revisar la organización de nuestro DataFrame y el data type de cada campo podemos usarlo siguiente\n",
    "\n",
    "df_fifa.printSchema()"
   ]
  },
  {
   "cell_type": "markdown",
   "metadata": {
    "application/vnd.databricks.v1+cell": {
     "inputWidgets": {},
     "nuid": "3d78a8d9-aca1-4f8c-9e84-49e67ab6fff4",
     "showTitle": false,
     "title": ""
    }
   },
   "source": [
    "#### Renombrar columnas"
   ]
  },
  {
   "cell_type": "code",
   "execution_count": 0,
   "metadata": {
    "application/vnd.databricks.v1+cell": {
     "inputWidgets": {},
     "nuid": "ab0ee79c-7568-45e1-8029-ab5e0a570a4d",
     "showTitle": false,
     "title": ""
    }
   },
   "outputs": [
    {
     "data": {
      "text/plain": [
       "+-----------------+---+---------+---------+-----------+-------------------+-----------+--------------+\n",
       "|       short_name|age|height_cm|weight_kg|nationality|               club|valor_euros|preferred_foot|\n",
       "+-----------------+---+---------+---------+-----------+-------------------+-----------+--------------+\n",
       "|         L. Messi| 32|      170|       72|  Argentina|       FC Barcelona|   95500000|          Left|\n",
       "|Cristiano Ronaldo| 34|      187|       83|   Portugal|           Juventus|   58500000|         Right|\n",
       "|        Neymar Jr| 27|      175|       68|     Brazil|Paris Saint-Germain|  105500000|         Right|\n",
       "|         J. Oblak| 26|      188|       87|   Slovenia|    Atlético Madrid|   77500000|         Right|\n",
       "|        E. Hazard| 28|      175|       74|    Belgium|        Real Madrid|   90000000|         Right|\n",
       "+-----------------+---+---------+---------+-----------+-------------------+-----------+--------------+\n",
       "only showing top 5 rows\n",
       "\n"
      ]
     },
     "metadata": {
      "application/vnd.databricks.v1+output": {
       "addedWidgets": {},
       "arguments": {},
       "data": "+-----------------+---+---------+---------+-----------+-------------------+-----------+--------------+\n|       short_name|age|height_cm|weight_kg|nationality|               club|valor_euros|preferred_foot|\n+-----------------+---+---------+---------+-----------+-------------------+-----------+--------------+\n|         L. Messi| 32|      170|       72|  Argentina|       FC Barcelona|   95500000|          Left|\n|Cristiano Ronaldo| 34|      187|       83|   Portugal|           Juventus|   58500000|         Right|\n|        Neymar Jr| 27|      175|       68|     Brazil|Paris Saint-Germain|  105500000|         Right|\n|         J. Oblak| 26|      188|       87|   Slovenia|    Atlético Madrid|   77500000|         Right|\n|        E. Hazard| 28|      175|       74|    Belgium|        Real Madrid|   90000000|         Right|\n+-----------------+---+---------+---------+-----------+-------------------+-----------+--------------+\nonly showing top 5 rows\n\n",
       "datasetInfos": [],
       "metadata": {},
       "removedWidgets": [],
       "type": "ansi"
      }
     },
     "output_type": "display_data"
    }
   ],
   "source": [
    "df_fifa.withColumnRenamed('value_eur','valor_euros').show(5) #esto no afectará al dataframe original"
   ]
  },
  {
   "cell_type": "code",
   "execution_count": 0,
   "metadata": {
    "application/vnd.databricks.v1+cell": {
     "inputWidgets": {},
     "nuid": "6f25b838-63b8-4d95-b835-25251fdce30d",
     "showTitle": false,
     "title": ""
    }
   },
   "outputs": [
    {
     "data": {
      "text/plain": [
       "+-----------------+---+---------+---------+-----------+-------------------+-----------+--------------+\n",
       "|       short_name|age|height_cm|weight_kg|nationality|               club|valor_euros|preferred_foot|\n",
       "+-----------------+---+---------+---------+-----------+-------------------+-----------+--------------+\n",
       "|         L. Messi| 32|      170|       72|  Argentina|       FC Barcelona|   95500000|          Left|\n",
       "|Cristiano Ronaldo| 34|      187|       83|   Portugal|           Juventus|   58500000|         Right|\n",
       "|        Neymar Jr| 27|      175|       68|     Brazil|Paris Saint-Germain|  105500000|         Right|\n",
       "|         J. Oblak| 26|      188|       87|   Slovenia|    Atlético Madrid|   77500000|         Right|\n",
       "|        E. Hazard| 28|      175|       74|    Belgium|        Real Madrid|   90000000|         Right|\n",
       "+-----------------+---+---------+---------+-----------+-------------------+-----------+--------------+\n",
       "only showing top 5 rows\n",
       "\n"
      ]
     },
     "metadata": {
      "application/vnd.databricks.v1+output": {
       "addedWidgets": {},
       "arguments": {},
       "data": "+-----------------+---+---------+---------+-----------+-------------------+-----------+--------------+\n|       short_name|age|height_cm|weight_kg|nationality|               club|valor_euros|preferred_foot|\n+-----------------+---+---------+---------+-----------+-------------------+-----------+--------------+\n|         L. Messi| 32|      170|       72|  Argentina|       FC Barcelona|   95500000|          Left|\n|Cristiano Ronaldo| 34|      187|       83|   Portugal|           Juventus|   58500000|         Right|\n|        Neymar Jr| 27|      175|       68|     Brazil|Paris Saint-Germain|  105500000|         Right|\n|         J. Oblak| 26|      188|       87|   Slovenia|    Atlético Madrid|   77500000|         Right|\n|        E. Hazard| 28|      175|       74|    Belgium|        Real Madrid|   90000000|         Right|\n+-----------------+---+---------+---------+-----------+-------------------+-----------+--------------+\nonly showing top 5 rows\n\n",
       "datasetInfos": [],
       "metadata": {},
       "removedWidgets": [],
       "type": "ansi"
      }
     },
     "output_type": "display_data"
    }
   ],
   "source": [
    "#Para tener resultados permanentes, debemos guardar la salida en otro dataframe.\n",
    "df_ejemplo = df_fifa.withColumnRenamed('value_eur','valor_euros')\n",
    "df_ejemplo.show(5)"
   ]
  },
  {
   "cell_type": "markdown",
   "metadata": {
    "application/vnd.databricks.v1+cell": {
     "inputWidgets": {},
     "nuid": "249b3947-5b1c-4a13-a49d-83686f92effd",
     "showTitle": false,
     "title": ""
    }
   },
   "source": [
    "#### Eliminar columnas"
   ]
  },
  {
   "cell_type": "code",
   "execution_count": 0,
   "metadata": {
    "application/vnd.databricks.v1+cell": {
     "inputWidgets": {},
     "nuid": "750fe1a0-8de7-42c1-810d-96f3aa0ce5cb",
     "showTitle": false,
     "title": ""
    }
   },
   "outputs": [
    {
     "data": {
      "text/plain": [
       "+-----------------+---+---------+-----------+-------------------+---------+--------------+\n",
       "|       short_name|age|height_cm|nationality|               club|value_eur|preferred_foot|\n",
       "+-----------------+---+---------+-----------+-------------------+---------+--------------+\n",
       "|         L. Messi| 32|      170|  Argentina|       FC Barcelona| 95500000|          Left|\n",
       "|Cristiano Ronaldo| 34|      187|   Portugal|           Juventus| 58500000|         Right|\n",
       "|        Neymar Jr| 27|      175|     Brazil|Paris Saint-Germain|105500000|         Right|\n",
       "|         J. Oblak| 26|      188|   Slovenia|    Atlético Madrid| 77500000|         Right|\n",
       "|        E. Hazard| 28|      175|    Belgium|        Real Madrid| 90000000|         Right|\n",
       "+-----------------+---+---------+-----------+-------------------+---------+--------------+\n",
       "only showing top 5 rows\n",
       "\n"
      ]
     },
     "metadata": {
      "application/vnd.databricks.v1+output": {
       "addedWidgets": {},
       "arguments": {},
       "data": "+-----------------+---+---------+-----------+-------------------+---------+--------------+\n|       short_name|age|height_cm|nationality|               club|value_eur|preferred_foot|\n+-----------------+---+---------+-----------+-------------------+---------+--------------+\n|         L. Messi| 32|      170|  Argentina|       FC Barcelona| 95500000|          Left|\n|Cristiano Ronaldo| 34|      187|   Portugal|           Juventus| 58500000|         Right|\n|        Neymar Jr| 27|      175|     Brazil|Paris Saint-Germain|105500000|         Right|\n|         J. Oblak| 26|      188|   Slovenia|    Atlético Madrid| 77500000|         Right|\n|        E. Hazard| 28|      175|    Belgium|        Real Madrid| 90000000|         Right|\n+-----------------+---+---------+-----------+-------------------+---------+--------------+\nonly showing top 5 rows\n\n",
       "datasetInfos": [],
       "metadata": {},
       "removedWidgets": [],
       "type": "ansi"
      }
     },
     "output_type": "display_data"
    }
   ],
   "source": [
    "df_fifa.drop('weight_kg').show(5)"
   ]
  },
  {
   "cell_type": "markdown",
   "metadata": {
    "application/vnd.databricks.v1+cell": {
     "inputWidgets": {},
     "nuid": "0c8331ad-2143-4f53-9f28-1d8a6417f06b",
     "showTitle": false,
     "title": ""
    }
   },
   "source": [
    "#### Ordenar columnas"
   ]
  },
  {
   "cell_type": "code",
   "execution_count": 0,
   "metadata": {
    "application/vnd.databricks.v1+cell": {
     "inputWidgets": {},
     "nuid": "30267ae1-e1f5-419f-9d2c-f66ecc136a9a",
     "showTitle": false,
     "title": ""
    }
   },
   "outputs": [
    {
     "data": {
      "text/plain": [
       "+------------+---+---------+---------+-----------+-------------------+---------+--------------+\n",
       "|  short_name|age|height_cm|weight_kg|nationality|               club|value_eur|preferred_foot|\n",
       "+------------+---+---------+---------+-----------+-------------------+---------+--------------+\n",
       "|   Neymar Jr| 27|      175|       68|     Brazil|Paris Saint-Germain|105500000|         Right|\n",
       "|    L. Messi| 32|      170|       72|  Argentina|       FC Barcelona| 95500000|          Left|\n",
       "|   K. Mbappé| 20|      178|       73|     France|Paris Saint-Germain| 93500000|         Right|\n",
       "|   E. Hazard| 28|      175|       74|    Belgium|        Real Madrid| 90000000|         Right|\n",
       "|K. De Bruyne| 28|      181|       70|    Belgium|    Manchester City| 90000000|         Right|\n",
       "+------------+---+---------+---------+-----------+-------------------+---------+--------------+\n",
       "only showing top 5 rows\n",
       "\n"
      ]
     },
     "metadata": {
      "application/vnd.databricks.v1+output": {
       "addedWidgets": {},
       "arguments": {},
       "data": "+------------+---+---------+---------+-----------+-------------------+---------+--------------+\n|  short_name|age|height_cm|weight_kg|nationality|               club|value_eur|preferred_foot|\n+------------+---+---------+---------+-----------+-------------------+---------+--------------+\n|   Neymar Jr| 27|      175|       68|     Brazil|Paris Saint-Germain|105500000|         Right|\n|    L. Messi| 32|      170|       72|  Argentina|       FC Barcelona| 95500000|          Left|\n|   K. Mbappé| 20|      178|       73|     France|Paris Saint-Germain| 93500000|         Right|\n|   E. Hazard| 28|      175|       74|    Belgium|        Real Madrid| 90000000|         Right|\n|K. De Bruyne| 28|      181|       70|    Belgium|    Manchester City| 90000000|         Right|\n+------------+---+---------+---------+-----------+-------------------+---------+--------------+\nonly showing top 5 rows\n\n",
       "datasetInfos": [],
       "metadata": {},
       "removedWidgets": [],
       "type": "ansi"
      }
     },
     "output_type": "display_data"
    }
   ],
   "source": [
    "#Podemos ordenar a los jugadores por su valor en euros\n",
    "df_fifa.orderBy('value_eur', ascending = False).show(5)"
   ]
  },
  {
   "cell_type": "markdown",
   "metadata": {
    "application/vnd.databricks.v1+cell": {
     "inputWidgets": {},
     "nuid": "00c6d1a0-25a4-4112-a566-8d023b7731f0",
     "showTitle": false,
     "title": ""
    }
   },
   "source": [
    "#### Filtrar datos"
   ]
  },
  {
   "cell_type": "code",
   "execution_count": 0,
   "metadata": {
    "application/vnd.databricks.v1+cell": {
     "inputWidgets": {},
     "nuid": "745d9b5a-105c-4b15-be89-194ef4056a81",
     "showTitle": false,
     "title": ""
    }
   },
   "outputs": [
    {
     "data": {
      "text/plain": [
       "+---------------+---+---------+---------+-----------+---------+---------+--------------+\n",
       "|     short_name|age|height_cm|weight_kg|nationality|     club|value_eur|preferred_foot|\n",
       "+---------------+---+---------+---------+-----------+---------+---------+--------------+\n",
       "| Z. Ibrahimović| 37|      195|       95|     Sweden|LA Galaxy| 14000000|         Right|\n",
       "|           Pepe| 36|      188|       81|   Portugal| FC Porto|  6500000|         Right|\n",
       "|      G. Buffon| 41|      192|       92|      Italy| Juventus|  2600000|         Right|\n",
       "|       Casillas| 38|      185|       84|      Spain| FC Porto|  2600000|          Left|\n",
       "|F. Quagliarella| 36|      180|       79|      Italy|Sampdoria|  9500000|         Right|\n",
       "+---------------+---+---------+---------+-----------+---------+---------+--------------+\n",
       "only showing top 5 rows\n",
       "\n"
      ]
     },
     "metadata": {
      "application/vnd.databricks.v1+output": {
       "addedWidgets": {},
       "arguments": {},
       "data": "+---------------+---+---------+---------+-----------+---------+---------+--------------+\n|     short_name|age|height_cm|weight_kg|nationality|     club|value_eur|preferred_foot|\n+---------------+---+---------+---------+-----------+---------+---------+--------------+\n| Z. Ibrahimović| 37|      195|       95|     Sweden|LA Galaxy| 14000000|         Right|\n|           Pepe| 36|      188|       81|   Portugal| FC Porto|  6500000|         Right|\n|      G. Buffon| 41|      192|       92|      Italy| Juventus|  2600000|         Right|\n|       Casillas| 38|      185|       84|      Spain| FC Porto|  2600000|          Left|\n|F. Quagliarella| 36|      180|       79|      Italy|Sampdoria|  9500000|         Right|\n+---------------+---+---------+---------+-----------+---------+---------+--------------+\nonly showing top 5 rows\n\n",
       "datasetInfos": [],
       "metadata": {},
       "removedWidgets": [],
       "type": "ansi"
      }
     },
     "output_type": "display_data"
    }
   ],
   "source": [
    "#con la funcion where() podemos hacer un filtrado de nuestros datos\n",
    "df_fifa.where(df_fifa.age > 35).show(5)"
   ]
  },
  {
   "cell_type": "code",
   "execution_count": 0,
   "metadata": {
    "application/vnd.databricks.v1+cell": {
     "inputWidgets": {},
     "nuid": "23f01d86-0821-47f1-a21e-f4ca4e8f2faf",
     "showTitle": false,
     "title": ""
    }
   },
   "outputs": [
    {
     "data": {
      "text/plain": [
       "+------------+---+---------+---------+-----------+-----------+---------+--------------+\n",
       "|  short_name|age|height_cm|weight_kg|nationality|       club|value_eur|preferred_foot|\n",
       "+------------+---+---------+---------+-----------+-----------+---------+--------------+\n",
       "|   L. Modrić| 33|      172|       66|    Croatia|Real Madrid| 45000000|         Right|\n",
       "|Sergio Ramos| 33|      184|       82|      Spain|Real Madrid| 31500000|         Right|\n",
       "|  K. Benzema| 31|      185|       81|     France|Real Madrid| 45000000|         Right|\n",
       "|    K. Navas| 32|      185|       80| Costa Rica|Real Madrid| 30500000|         Right|\n",
       "|     Marcelo| 31|      174|       75|     Brazil|Real Madrid| 28000000|          Left|\n",
       "+------------+---+---------+---------+-----------+-----------+---------+--------------+\n",
       "\n"
      ]
     },
     "metadata": {
      "application/vnd.databricks.v1+output": {
       "addedWidgets": {},
       "arguments": {},
       "data": "+------------+---+---------+---------+-----------+-----------+---------+--------------+\n|  short_name|age|height_cm|weight_kg|nationality|       club|value_eur|preferred_foot|\n+------------+---+---------+---------+-----------+-----------+---------+--------------+\n|   L. Modrić| 33|      172|       66|    Croatia|Real Madrid| 45000000|         Right|\n|Sergio Ramos| 33|      184|       82|      Spain|Real Madrid| 31500000|         Right|\n|  K. Benzema| 31|      185|       81|     France|Real Madrid| 45000000|         Right|\n|    K. Navas| 32|      185|       80| Costa Rica|Real Madrid| 30500000|         Right|\n|     Marcelo| 31|      174|       75|     Brazil|Real Madrid| 28000000|          Left|\n+------------+---+---------+---------+-----------+-----------+---------+--------------+\n\n",
       "datasetInfos": [],
       "metadata": {},
       "removedWidgets": [],
       "type": "ansi"
      }
     },
     "output_type": "display_data"
    }
   ],
   "source": [
    "#buscando a los jugadores del Liverpool que tuviera mas de 30 años de edad\n",
    "df_fifa.where((df_ejemplo.age > 30) & (df_ejemplo.club == 'Real Madrid')).show(5)"
   ]
  },
  {
   "cell_type": "markdown",
   "metadata": {
    "application/vnd.databricks.v1+cell": {
     "inputWidgets": {},
     "nuid": "cdbd5b59-87e6-4ce5-91c2-ec2fd17d14aa",
     "showTitle": false,
     "title": ""
    }
   },
   "source": [
    "#### Funciones de agregación"
   ]
  },
  {
   "cell_type": "markdown",
   "metadata": {
    "application/vnd.databricks.v1+cell": {
     "inputWidgets": {},
     "nuid": "65af59f1-5194-4dfa-b471-76188df5e750",
     "showTitle": false,
     "title": ""
    }
   },
   "source": [
    "Supongamos que queremos saber el costo total en euros de un equipo, lograríamos dicho objetivo sumando el valor de los jugadores de cada equipo. Esto lo podemos lograr usando la funcion groupBy() en conjunto con algunas funciones de agregación de la siguiente manera"
   ]
  },
  {
   "cell_type": "code",
   "execution_count": 0,
   "metadata": {
    "application/vnd.databricks.v1+cell": {
     "inputWidgets": {},
     "nuid": "18e7c146-0763-48e7-bf01-38bb5b23a2f4",
     "showTitle": false,
     "title": ""
    }
   },
   "outputs": [
    {
     "data": {
      "text/plain": [
       "+--------------------+--------------+\n",
       "|                Club|sum(value_eur)|\n",
       "+--------------------+--------------+\n",
       "|       Côte d'Ivoire|             0|\n",
       "|          Göztepe SK|      43065000|\n",
       "|CD Everton de Viñ...|      18075000|\n",
       "|     Shonan Bellmare|       1410000|\n",
       "|        Salford City|       7905000|\n",
       "+--------------------+--------------+\n",
       "only showing top 5 rows\n",
       "\n"
      ]
     },
     "metadata": {
      "application/vnd.databricks.v1+output": {
       "addedWidgets": {},
       "arguments": {},
       "data": "+--------------------+--------------+\n|                Club|sum(value_eur)|\n+--------------------+--------------+\n|       Côte d'Ivoire|             0|\n|          Göztepe SK|      43065000|\n|CD Everton de Viñ...|      18075000|\n|     Shonan Bellmare|       1410000|\n|        Salford City|       7905000|\n+--------------------+--------------+\nonly showing top 5 rows\n\n",
       "datasetInfos": [],
       "metadata": {},
       "removedWidgets": [],
       "type": "ansi"
      }
     },
     "output_type": "display_data"
    }
   ],
   "source": [
    "df_fifa.groupBy('Club').sum('value_eur').show(5)"
   ]
  },
  {
   "cell_type": "code",
   "execution_count": 0,
   "metadata": {
    "application/vnd.databricks.v1+cell": {
     "inputWidgets": {},
     "nuid": "cb56fba7-8540-4204-bd9a-ccf385eadb6f",
     "showTitle": false,
     "title": ""
    }
   },
   "outputs": [
    {
     "data": {
      "text/plain": [
       "+---------------+--------------+\n",
       "|           club|sum(value_eur)|\n",
       "+---------------+--------------+\n",
       "|    Real Madrid|     897850000|\n",
       "|   FC Barcelona|     869300000|\n",
       "|Manchester City|     845745000|\n",
       "|       Juventus|     735475000|\n",
       "|      Liverpool|     693265000|\n",
       "+---------------+--------------+\n",
       "only showing top 5 rows\n",
       "\n"
      ]
     },
     "metadata": {
      "application/vnd.databricks.v1+output": {
       "addedWidgets": {},
       "arguments": {},
       "data": "+---------------+--------------+\n|           club|sum(value_eur)|\n+---------------+--------------+\n|    Real Madrid|     897850000|\n|   FC Barcelona|     869300000|\n|Manchester City|     845745000|\n|       Juventus|     735475000|\n|      Liverpool|     693265000|\n+---------------+--------------+\nonly showing top 5 rows\n\n",
       "datasetInfos": [],
       "metadata": {},
       "removedWidgets": [],
       "type": "ansi"
      }
     },
     "output_type": "display_data"
    }
   ],
   "source": [
    "#si quisieramos saber cuales son los 5 equipos mas caros hariamos lo siguiente\n",
    "df_fifa.groupBy('club') \\\n",
    "  .sum('value_eur') \\\n",
    "  .orderBy('sum(value_eur)', ascending = False) \\\n",
    "  .show(5)"
   ]
  },
  {
   "cell_type": "code",
   "execution_count": 0,
   "metadata": {
    "application/vnd.databricks.v1+cell": {
     "inputWidgets": {},
     "nuid": "6089f4cb-3f95-4319-9599-f626e6a50598",
     "showTitle": false,
     "title": ""
    }
   },
   "outputs": [
    {
     "data": {
      "text/plain": [
       "+---------------+-----------+------------------+\n",
       "|           club|valor_total|     edad_promedio|\n",
       "+---------------+-----------+------------------+\n",
       "|    Real Madrid|  897850000| 24.90909090909091|\n",
       "|   FC Barcelona|  869300000|24.060606060606062|\n",
       "|Manchester City|  845745000|24.333333333333332|\n",
       "|       Juventus|  735475000|              27.0|\n",
       "|      Liverpool|  693265000|24.484848484848484|\n",
       "+---------------+-----------+------------------+\n",
       "only showing top 5 rows\n",
       "\n"
      ]
     },
     "metadata": {
      "application/vnd.databricks.v1+output": {
       "addedWidgets": {},
       "arguments": {},
       "data": "+---------------+-----------+------------------+\n|           club|valor_total|     edad_promedio|\n+---------------+-----------+------------------+\n|    Real Madrid|  897850000| 24.90909090909091|\n|   FC Barcelona|  869300000|24.060606060606062|\n|Manchester City|  845745000|24.333333333333332|\n|       Juventus|  735475000|              27.0|\n|      Liverpool|  693265000|24.484848484848484|\n+---------------+-----------+------------------+\nonly showing top 5 rows\n\n",
       "datasetInfos": [],
       "metadata": {},
       "removedWidgets": [],
       "type": "ansi"
      }
     },
     "output_type": "display_data"
    }
   ],
   "source": [
    "#Si quisieramos usar más de una función de agregación tendriamos que hacer lo siguiente\n",
    "df_fifa.groupBy('club') \\\n",
    "  .agg(sum('value_eur').alias('valor_total'), \\\n",
    "       mean('age').alias('edad_promedio'))\\\n",
    "  .orderBy('valor_total', ascending = False) \\\n",
    "  .show(5) "
   ]
  },
  {
   "cell_type": "markdown",
   "metadata": {
    "application/vnd.databricks.v1+cell": {
     "inputWidgets": {},
     "nuid": "03df6fb5-090e-41d2-b0bf-e415a46f9280",
     "showTitle": false,
     "title": ""
    }
   },
   "source": [
    "#### Crear columnas"
   ]
  },
  {
   "cell_type": "code",
   "execution_count": 0,
   "metadata": {
    "application/vnd.databricks.v1+cell": {
     "inputWidgets": {},
     "nuid": "4f2dec27-eab5-43bf-b2d7-c17082949d8d",
     "showTitle": false,
     "title": ""
    }
   },
   "outputs": [
    {
     "data": {
      "text/html": [
       "<style scoped>\n",
       "  .ansiout {\n",
       "    display: block;\n",
       "    unicode-bidi: embed;\n",
       "    white-space: pre-wrap;\n",
       "    word-wrap: break-word;\n",
       "    word-break: break-all;\n",
       "    font-family: \"Source Code Pro\", \"Menlo\", monospace;;\n",
       "    font-size: 13px;\n",
       "    color: #555;\n",
       "    margin-left: 4px;\n",
       "    line-height: 19px;\n",
       "  }\n",
       "</style>"
      ]
     },
     "metadata": {
      "application/vnd.databricks.v1+output": {
       "arguments": {},
       "data": "",
       "errorSummary": "",
       "errorTraceType": null,
       "metadata": {},
       "type": "ipynbError"
      }
     },
     "output_type": "display_data"
    }
   ],
   "source": [
    "#Podemos crear columnas a partir de los valores de otras, por ejemplo, podríamos querer obtener el valor de los jugadores en pesos"
   ]
  },
  {
   "cell_type": "code",
   "execution_count": 0,
   "metadata": {
    "application/vnd.databricks.v1+cell": {
     "inputWidgets": {},
     "nuid": "75e9788f-feb3-463d-9283-8c3615c50f3e",
     "showTitle": false,
     "title": ""
    }
   },
   "outputs": [
    {
     "data": {
      "text/plain": [
       "+-----------------+---+---------+---------+-----------+-------------------+---------+--------------+-----------+\n",
       "|       short_name|age|height_cm|weight_kg|nationality|               club|value_eur|preferred_foot|valor_pesos|\n",
       "+-----------------+---+---------+---------+-----------+-------------------+---------+--------------+-----------+\n",
       "|         L. Messi| 32|      170|       72|  Argentina|       FC Barcelona| 95500000|          Left| 1910000000|\n",
       "|Cristiano Ronaldo| 34|      187|       83|   Portugal|           Juventus| 58500000|         Right| 1170000000|\n",
       "|        Neymar Jr| 27|      175|       68|     Brazil|Paris Saint-Germain|105500000|         Right| 2110000000|\n",
       "|         J. Oblak| 26|      188|       87|   Slovenia|    Atlético Madrid| 77500000|         Right| 1550000000|\n",
       "|        E. Hazard| 28|      175|       74|    Belgium|        Real Madrid| 90000000|         Right| 1800000000|\n",
       "+-----------------+---+---------+---------+-----------+-------------------+---------+--------------+-----------+\n",
       "only showing top 5 rows\n",
       "\n"
      ]
     },
     "metadata": {
      "application/vnd.databricks.v1+output": {
       "addedWidgets": {},
       "arguments": {},
       "data": "+-----------------+---+---------+---------+-----------+-------------------+---------+--------------+-----------+\n|       short_name|age|height_cm|weight_kg|nationality|               club|value_eur|preferred_foot|valor_pesos|\n+-----------------+---+---------+---------+-----------+-------------------+---------+--------------+-----------+\n|         L. Messi| 32|      170|       72|  Argentina|       FC Barcelona| 95500000|          Left| 1910000000|\n|Cristiano Ronaldo| 34|      187|       83|   Portugal|           Juventus| 58500000|         Right| 1170000000|\n|        Neymar Jr| 27|      175|       68|     Brazil|Paris Saint-Germain|105500000|         Right| 2110000000|\n|         J. Oblak| 26|      188|       87|   Slovenia|    Atlético Madrid| 77500000|         Right| 1550000000|\n|        E. Hazard| 28|      175|       74|    Belgium|        Real Madrid| 90000000|         Right| 1800000000|\n+-----------------+---+---------+---------+-----------+-------------------+---------+--------------+-----------+\nonly showing top 5 rows\n\n",
       "datasetInfos": [],
       "metadata": {},
       "removedWidgets": [],
       "type": "ansi"
      }
     },
     "output_type": "display_data"
    }
   ],
   "source": [
    "df_fifa.withColumn('valor_pesos', df_fifa.value_eur * 20).show(5)"
   ]
  },
  {
   "cell_type": "markdown",
   "metadata": {
    "application/vnd.databricks.v1+cell": {
     "inputWidgets": {},
     "nuid": "a6263376-4297-4551-b92c-3fe749e177f8",
     "showTitle": false,
     "title": ""
    }
   },
   "source": [
    "### Consultas en SQL"
   ]
  },
  {
   "cell_type": "markdown",
   "metadata": {
    "application/vnd.databricks.v1+cell": {
     "inputWidgets": {},
     "nuid": "bee28446-c0f4-4e54-a42b-97fdd92f1759",
     "showTitle": false,
     "title": ""
    }
   },
   "source": [
    "De manera general, podemos observar que existe cierta similaridad entre las funciones de los DataFrames de PySpark con algunas sentencias de SQL. Este paralelismo llega a tal grado que podemos reemplazar la concatenación de varias funciones con una simple consulta SQL."
   ]
  },
  {
   "cell_type": "code",
   "execution_count": 0,
   "metadata": {
    "application/vnd.databricks.v1+cell": {
     "inputWidgets": {},
     "nuid": "9243fce2-c7c1-4de1-9340-4c4785858504",
     "showTitle": false,
     "title": ""
    }
   },
   "outputs": [],
   "source": [
    "#Por ejemplo, si quisieramos consultar de nuevo cuales son los 5 equipos más caros, solo que esta vez haciendo una consulta SQL, haríamos los siguiente\n",
    "\n",
    "# Le dice a spark que guarde este DataFrame como una tabla SQL\n",
    "df_fifa.registerTempTable('FIFA20')"
   ]
  },
  {
   "cell_type": "code",
   "execution_count": 0,
   "metadata": {
    "application/vnd.databricks.v1+cell": {
     "inputWidgets": {},
     "nuid": "356ec0e5-5eb2-4506-bfaf-8700e43cfcd1",
     "showTitle": false,
     "title": ""
    }
   },
   "outputs": [
    {
     "data": {
      "text/plain": [
       "+---------------+-----------+\n",
       "|           club|valor_total|\n",
       "+---------------+-----------+\n",
       "|    Real Madrid|  897850000|\n",
       "|   FC Barcelona|  869300000|\n",
       "|Manchester City|  845745000|\n",
       "|       Juventus|  735475000|\n",
       "|      Liverpool|  693265000|\n",
       "+---------------+-----------+\n",
       "only showing top 5 rows\n",
       "\n"
      ]
     },
     "metadata": {
      "application/vnd.databricks.v1+output": {
       "addedWidgets": {},
       "arguments": {},
       "data": "+---------------+-----------+\n|           club|valor_total|\n+---------------+-----------+\n|    Real Madrid|  897850000|\n|   FC Barcelona|  869300000|\n|Manchester City|  845745000|\n|       Juventus|  735475000|\n|      Liverpool|  693265000|\n+---------------+-----------+\nonly showing top 5 rows\n\n",
       "datasetInfos": [],
       "metadata": {},
       "removedWidgets": [],
       "type": "ansi"
      }
     },
     "output_type": "display_data"
    }
   ],
   "source": [
    "consulta = '''\n",
    "  SELECT club, SUM(value_eur) AS valor_total \n",
    "  FROM FIFA20\n",
    "  GROUP BY club\n",
    "  ORDER BY valor_total DESC\n",
    "  '''\n",
    "spark.sql(consulta).show(5)"
   ]
  },
  {
   "cell_type": "code",
   "execution_count": 0,
   "metadata": {
    "application/vnd.databricks.v1+cell": {
     "inputWidgets": {},
     "nuid": "86d348fa-54ab-4925-b4de-9357f2595433",
     "showTitle": false,
     "title": ""
    }
   },
   "outputs": [
    {
     "data": {
      "text/html": [
       "<style scoped>\n",
       "  .table-result-container {\n",
       "    max-height: 300px;\n",
       "    overflow: auto;\n",
       "  }\n",
       "  table, th, td {\n",
       "    border: 1px solid black;\n",
       "    border-collapse: collapse;\n",
       "  }\n",
       "  th, td {\n",
       "    padding: 5px;\n",
       "  }\n",
       "  th {\n",
       "    text-align: left;\n",
       "  }\n",
       "</style><div class='table-result-container'><table class='table-result'><thead style='background-color: white'><tr><th>club</th><th>valor_total</th></tr></thead><tbody><tr><td>Real Madrid</td><td>897850000</td></tr><tr><td>FC Barcelona</td><td>869300000</td></tr><tr><td>Manchester City</td><td>845745000</td></tr><tr><td>Juventus</td><td>735475000</td></tr><tr><td>Liverpool</td><td>693265000</td></tr></tbody></table></div>"
      ]
     },
     "metadata": {
      "application/vnd.databricks.v1+output": {
       "addedWidgets": {},
       "aggData": [],
       "aggError": "",
       "aggOverflow": false,
       "aggSchema": [],
       "aggSeriesLimitReached": false,
       "aggType": "",
       "arguments": {},
       "columnCustomDisplayInfos": {},
       "data": [
        [
         "Real Madrid",
         897850000
        ],
        [
         "FC Barcelona",
         869300000
        ],
        [
         "Manchester City",
         845745000
        ],
        [
         "Juventus",
         735475000
        ],
        [
         "Liverpool",
         693265000
        ]
       ],
       "datasetInfos": [],
       "dbfsResultPath": null,
       "isJsonSchema": true,
       "metadata": {
        "isDbfsCommandResult": false
       },
       "overflow": false,
       "plotOptions": {
        "customPlotOptions": {},
        "displayType": "plotlyBar",
        "pivotAggregation": null,
        "pivotColumns": null,
        "xColumns": null,
        "yColumns": null
       },
       "removedWidgets": [],
       "schema": [
        {
         "metadata": "{}",
         "name": "club",
         "type": "\"string\""
        },
        {
         "metadata": "{}",
         "name": "valor_total",
         "type": "\"long\""
        }
       ],
       "type": "table"
      }
     },
     "output_type": "display_data"
    }
   ],
   "source": [
    "%sql \n",
    "/* Esta es una celda para ejecutar consultas SQL sobre la tabla creada \"FIFA20\" */\n",
    "SELECT club, SUM(value_eur) AS valor_total \n",
    "  FROM FIFA20\n",
    "  GROUP BY club\n",
    "  ORDER BY valor_total DESC\n",
    "  limit 5\n",
    "\n",
    "\n",
    "2.5 puntos cada ejercicio.\n",
    "Utilizar el método de su elección (PySpark o consultas SQL)\n",
    "Ejercicio 1. Visualizar los 30 jugadores más altos (mostrando su altura en pies ordenado de mayor a menor) y con un peso mayor a 70 kg.\n",
    "\n",
    "Ejercicio 2. Visualizar los 5 jugadores con valor en pesos más bajo que sean de nacionalidad mexicana, ordenado de menor a mayor.\n",
    "\n",
    "Ejercicio 3. Visualizar los 10 jugadores con el peso más bajo de un club de su elección, ordenado de menor a mayor.\n",
    "\n",
    "Ejercicio 4. Visualizar los 20 jugadores de mayor edad de nacionalidad argentina, ordenados de mayor a menor con respecto a su peso."
   ]
  }
 ],
 "metadata": {
  "application/vnd.databricks.v1+notebook": {
   "dashboards": [],
   "language": "python",
   "notebookMetadata": {
    "pythonIndentUnit": 4
   },
   "notebookName": "Mi primera libreta PySpark",
   "notebookOrigID": 2906518938311856,
   "widgets": {}
  },
  "kernelspec": {
   "display_name": "Python 3 (ipykernel)",
   "language": "python",
   "name": "python3"
  },
  "language_info": {
   "codemirror_mode": {
    "name": "ipython",
    "version": 3
   },
   "file_extension": ".py",
   "mimetype": "text/x-python",
   "name": "python",
   "nbconvert_exporter": "python",
   "pygments_lexer": "ipython3",
   "version": "3.9.7"
  }
 },
 "nbformat": 4,
 "nbformat_minor": 1
}
